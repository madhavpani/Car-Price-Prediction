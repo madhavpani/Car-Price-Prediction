{
 "cells": [
  {
   "cell_type": "markdown",
   "id": "9f2e5dbc-1d16-48de-b3cc-957b4f7ada54",
   "metadata": {},
   "source": [
    "#### Import Libraries"
   ]
  },
  {
   "cell_type": "code",
   "execution_count": 1,
   "id": "7121d5e5-f901-4903-b9eb-59cfe413b68d",
   "metadata": {},
   "outputs": [],
   "source": [
    "import pandas as pd\n",
    "import numpy as np\n",
    "import matplotlib.pyplot as plt\n",
    "import seaborn as sns"
   ]
  },
  {
   "cell_type": "code",
   "execution_count": 2,
   "id": "f846e4ec-bf88-4d72-a40f-18999da4ad48",
   "metadata": {},
   "outputs": [],
   "source": [
    "import warnings\n",
    "warnings.filterwarnings('ignore')"
   ]
  },
  {
   "cell_type": "code",
   "execution_count": 3,
   "id": "35524f56-3dd3-483a-8b0c-cf7916117194",
   "metadata": {},
   "outputs": [],
   "source": [
    "import joblib"
   ]
  },
  {
   "cell_type": "markdown",
   "id": "b35c90d1-1bdd-4ea4-8ce2-a5e5e5d094c3",
   "metadata": {},
   "source": [
    "#### Import Dataset"
   ]
  },
  {
   "cell_type": "code",
   "execution_count": 4,
   "id": "7c69dbf3-96e4-46e0-a0df-f8ca93b18b65",
   "metadata": {},
   "outputs": [
    {
     "data": {
      "text/html": [
       "<div>\n",
       "<style scoped>\n",
       "    .dataframe tbody tr th:only-of-type {\n",
       "        vertical-align: middle;\n",
       "    }\n",
       "\n",
       "    .dataframe tbody tr th {\n",
       "        vertical-align: top;\n",
       "    }\n",
       "\n",
       "    .dataframe thead th {\n",
       "        text-align: right;\n",
       "    }\n",
       "</style>\n",
       "<table border=\"1\" class=\"dataframe\">\n",
       "  <thead>\n",
       "    <tr style=\"text-align: right;\">\n",
       "      <th></th>\n",
       "      <th>Price</th>\n",
       "      <th>Mileage</th>\n",
       "      <th>Make</th>\n",
       "      <th>Model</th>\n",
       "    </tr>\n",
       "  </thead>\n",
       "  <tbody>\n",
       "    <tr>\n",
       "      <th>0</th>\n",
       "      <td>8995</td>\n",
       "      <td>35725</td>\n",
       "      <td>Acura</td>\n",
       "      <td>ILX6-Speed</td>\n",
       "    </tr>\n",
       "    <tr>\n",
       "      <th>1</th>\n",
       "      <td>10888</td>\n",
       "      <td>19606</td>\n",
       "      <td>Acura</td>\n",
       "      <td>ILX5-Speed</td>\n",
       "    </tr>\n",
       "    <tr>\n",
       "      <th>2</th>\n",
       "      <td>8995</td>\n",
       "      <td>48851</td>\n",
       "      <td>Acura</td>\n",
       "      <td>ILX6-Speed</td>\n",
       "    </tr>\n",
       "  </tbody>\n",
       "</table>\n",
       "</div>"
      ],
      "text/plain": [
       "   Price  Mileage   Make       Model\n",
       "0   8995    35725  Acura  ILX6-Speed\n",
       "1  10888    19606  Acura  ILX5-Speed\n",
       "2   8995    48851  Acura  ILX6-Speed"
      ]
     },
     "execution_count": 4,
     "metadata": {},
     "output_type": "execute_result"
    }
   ],
   "source": [
    "cars_df = pd.read_csv('true_car_listings.csv', usecols=['Price', 'Mileage', 'Make', 'Model'])\n",
    "cars_df.head(3)"
   ]
  },
  {
   "cell_type": "markdown",
   "id": "bc15f5c0-ebc3-4b11-ac37-15c3433c36b2",
   "metadata": {},
   "source": [
    "## DF Properties"
   ]
  },
  {
   "cell_type": "markdown",
   "id": "7748e74a-03b3-4df3-97a0-e5a62907e732",
   "metadata": {},
   "source": [
    "#### Shape"
   ]
  },
  {
   "cell_type": "code",
   "execution_count": 5,
   "id": "15170548-318c-4963-b485-c6de8770ce26",
   "metadata": {},
   "outputs": [
    {
     "data": {
      "text/plain": [
       "(852122, 4)"
      ]
     },
     "execution_count": 5,
     "metadata": {},
     "output_type": "execute_result"
    }
   ],
   "source": [
    "cars_df.shape"
   ]
  },
  {
   "cell_type": "markdown",
   "id": "35e6a4cd-ba35-4e54-963e-b8f3eecdc9dc",
   "metadata": {},
   "source": [
    "#### Columns"
   ]
  },
  {
   "cell_type": "code",
   "execution_count": 6,
   "id": "278dfab7-4f65-4bb4-8497-4a956d7ecd4f",
   "metadata": {},
   "outputs": [
    {
     "data": {
      "text/plain": [
       "Index(['Price', 'Mileage', 'Make', 'Model'], dtype='object')"
      ]
     },
     "execution_count": 6,
     "metadata": {},
     "output_type": "execute_result"
    }
   ],
   "source": [
    "cars_df.columns"
   ]
  },
  {
   "cell_type": "markdown",
   "id": "e4816ea2-d988-46df-906f-246072c20483",
   "metadata": {},
   "source": [
    "#### Correlations"
   ]
  },
  {
   "cell_type": "code",
   "execution_count": 7,
   "id": "72d236ac-0609-41dc-876f-f49478bbaaa1",
   "metadata": {},
   "outputs": [
    {
     "data": {
      "text/html": [
       "<div>\n",
       "<style scoped>\n",
       "    .dataframe tbody tr th:only-of-type {\n",
       "        vertical-align: middle;\n",
       "    }\n",
       "\n",
       "    .dataframe tbody tr th {\n",
       "        vertical-align: top;\n",
       "    }\n",
       "\n",
       "    .dataframe thead th {\n",
       "        text-align: right;\n",
       "    }\n",
       "</style>\n",
       "<table border=\"1\" class=\"dataframe\">\n",
       "  <thead>\n",
       "    <tr style=\"text-align: right;\">\n",
       "      <th></th>\n",
       "      <th>Price</th>\n",
       "      <th>Mileage</th>\n",
       "    </tr>\n",
       "  </thead>\n",
       "  <tbody>\n",
       "    <tr>\n",
       "      <th>Price</th>\n",
       "      <td>1.000000</td>\n",
       "      <td>-0.421237</td>\n",
       "    </tr>\n",
       "    <tr>\n",
       "      <th>Mileage</th>\n",
       "      <td>-0.421237</td>\n",
       "      <td>1.000000</td>\n",
       "    </tr>\n",
       "  </tbody>\n",
       "</table>\n",
       "</div>"
      ],
      "text/plain": [
       "            Price   Mileage\n",
       "Price    1.000000 -0.421237\n",
       "Mileage -0.421237  1.000000"
      ]
     },
     "execution_count": 7,
     "metadata": {},
     "output_type": "execute_result"
    }
   ],
   "source": [
    "cars_df.corr(numeric_only=True)"
   ]
  },
  {
   "cell_type": "markdown",
   "id": "9ab2e676-0d12-4674-9c68-1e67356bc9da",
   "metadata": {},
   "source": [
    "#### Info"
   ]
  },
  {
   "cell_type": "code",
   "execution_count": 8,
   "id": "cc5b1dc9-bcf9-414c-bf23-3db02462335f",
   "metadata": {},
   "outputs": [
    {
     "name": "stdout",
     "output_type": "stream",
     "text": [
      "<class 'pandas.core.frame.DataFrame'>\n",
      "RangeIndex: 852122 entries, 0 to 852121\n",
      "Data columns (total 4 columns):\n",
      " #   Column   Non-Null Count   Dtype \n",
      "---  ------   --------------   ----- \n",
      " 0   Price    852122 non-null  int64 \n",
      " 1   Mileage  852122 non-null  int64 \n",
      " 2   Make     852122 non-null  object\n",
      " 3   Model    852122 non-null  object\n",
      "dtypes: int64(2), object(2)\n",
      "memory usage: 26.0+ MB\n"
     ]
    }
   ],
   "source": [
    "cars_df.info()"
   ]
  },
  {
   "cell_type": "markdown",
   "id": "1a4e6af5-505c-4f1a-b5e2-cec145bc77aa",
   "metadata": {},
   "source": [
    "## Data Cleaning"
   ]
  },
  {
   "cell_type": "markdown",
   "id": "61fcaa69-380d-4675-be5c-44ee25ca65cc",
   "metadata": {},
   "source": [
    "#### Remove Duplicates"
   ]
  },
  {
   "cell_type": "code",
   "execution_count": 9,
   "id": "91fe6406-db27-42bd-af3a-d9fa4367169c",
   "metadata": {},
   "outputs": [
    {
     "data": {
      "text/plain": [
       "1008"
      ]
     },
     "execution_count": 9,
     "metadata": {},
     "output_type": "execute_result"
    }
   ],
   "source": [
    "cars_df.duplicated().sum()"
   ]
  },
  {
   "cell_type": "code",
   "execution_count": 10,
   "id": "5dec5562-90b1-4d33-b537-a27f1a98b32b",
   "metadata": {},
   "outputs": [],
   "source": [
    "cars_df.drop_duplicates(inplace=True, ignore_index=True)"
   ]
  },
  {
   "cell_type": "code",
   "execution_count": 11,
   "id": "0a5543e9-e7da-49b9-a4e9-d383ef1a9c8b",
   "metadata": {},
   "outputs": [
    {
     "data": {
      "text/plain": [
       "(851114, 4)"
      ]
     },
     "execution_count": 11,
     "metadata": {},
     "output_type": "execute_result"
    }
   ],
   "source": [
    "cars_df.shape"
   ]
  },
  {
   "cell_type": "markdown",
   "id": "86af8059-5954-44df-93ad-ffe81200cf3a",
   "metadata": {},
   "source": [
    "#### Remove Nulls"
   ]
  },
  {
   "cell_type": "code",
   "execution_count": 12,
   "id": "ac486f2e-223b-4d32-ac7a-d5ce9038e2cf",
   "metadata": {},
   "outputs": [
    {
     "data": {
      "text/plain": [
       "Price      0\n",
       "Mileage    0\n",
       "Make       0\n",
       "Model      0\n",
       "dtype: int64"
      ]
     },
     "execution_count": 12,
     "metadata": {},
     "output_type": "execute_result"
    }
   ],
   "source": [
    "cars_df.isnull().sum()"
   ]
  },
  {
   "cell_type": "markdown",
   "id": "9eedb3c3-6193-47b0-91c1-1a623acdb5dc",
   "metadata": {},
   "source": [
    "## EDA"
   ]
  },
  {
   "cell_type": "markdown",
   "id": "4027d112-fb51-4fb5-aec2-5dfb9fb36494",
   "metadata": {},
   "source": [
    "#### Numerical Columns"
   ]
  },
  {
   "cell_type": "markdown",
   "id": "90a21be4-5008-4920-b712-fb867c1d39b5",
   "metadata": {},
   "source": [
    "## Price"
   ]
  },
  {
   "cell_type": "code",
   "execution_count": 20,
   "id": "2c1b84c5-2df3-49a5-af29-f1dbb34f114d",
   "metadata": {},
   "outputs": [
    {
     "data": {
      "text/plain": [
       "<Figure size 1200x400 with 0 Axes>"
      ]
     },
     "metadata": {},
     "output_type": "display_data"
    },
    {
     "data": {
      "image/png": "[encoded data removed]",
      "text/plain": [
       "<Figure size 500x500 with 1 Axes>"
      ]
     },
     "metadata": {},
     "output_type": "display_data"
    }
   ],
   "source": [
    "plt.figure(figsize=(12, 4))\n",
    "sns.displot(x = 'Price', kde = True, data = cars_df)\n",
    "\n",
    "plt.show()"
   ]
  },
  {
   "cell_type": "code",
   "execution_count": 21,
   "id": "236b5199-adb4-4db7-98c0-e29ed90c1956",
   "metadata": {},
   "outputs": [
    {
     "data": {
      "image/png": "[encoded data removed]",
      "text/plain": [
       "<Figure size 1200x400 with 1 Axes>"
      ]
     },
     "metadata": {},
     "output_type": "display_data"
    }
   ],
   "source": [
    "plt.figure(figsize = (12, 4))\n",
    "sns.histplot(x = 'Price', data = cars_df)\n",
    "\n",
    "plt.show()"
   ]
  },
  {
   "cell_type": "code",
   "execution_count": 22,
   "id": "47637712-081c-4da5-9ea1-49f2ea22a4d6",
   "metadata": {},
   "outputs": [
    {
     "data": {
      "image/png": "[encoded data removed]",
      "text/plain": [
       "<Figure size 1200x400 with 1 Axes>"
      ]
     },
     "metadata": {},
     "output_type": "display_data"
    }
   ],
   "source": [
    "plt.figure(figsize=(12, 4))\n",
    "sns.boxplot(x = 'Price', data = cars_df)\n",
    "\n",
    "plt.show()"
   ]
  },
  {
   "cell_type": "markdown",
   "id": "5b167e9d-b388-42ab-a417-cafa147ad3e7",
   "metadata": {},
   "source": [
    "## Mileage"
   ]
  },
  {
   "cell_type": "code",
   "execution_count": 23,
   "id": "e07f56cc-24f2-40fd-9133-445ccc5802a0",
   "metadata": {},
   "outputs": [
    {
     "data": {
      "text/plain": [
       "<Figure size 1200x400 with 0 Axes>"
      ]
     },
     "metadata": {},
     "output_type": "display_data"
    },
    {
     "data": {
      "image/png": "[encoded data removed]",
      "text/plain": [
       "<Figure size 500x500 with 1 Axes>"
      ]
     },
     "metadata": {},
     "output_type": "display_data"
    }
   ],
   "source": [
    "plt.figure(figsize=(12, 4))\n",
    "sns.displot(x = 'Mileage', kde = True, data = cars_df)\n",
    "\n",
    "plt.show()"
   ]
  },
  {
   "cell_type": "code",
   "execution_count": 24,
   "id": "e4474532-ecfe-4cd2-8240-59dc244b611a",
   "metadata": {},
   "outputs": [
    {
     "data": {
      "image/png": "[encoded data removed]",
      "text/plain": [
       "<Figure size 1200x400 with 1 Axes>"
      ]
     },
     "metadata": {},
     "output_type": "display_data"
    }
   ],
   "source": [
    "plt.figure(figsize = (12, 4))\n",
    "sns.histplot(x = 'Mileage', data = cars_df)\n",
    "\n",
    "plt.show()"
   ]
  },
  {
   "cell_type": "code",
   "execution_count": 25,
   "id": "449e1473-af1d-4b86-83b7-13366ab51667",
   "metadata": {},
   "outputs": [
    {
     "data": {
      "image/png": "[encoded data removed]",
      "text/plain": [
       "<Figure size 1200x400 with 1 Axes>"
      ]
     },
     "metadata": {},
     "output_type": "display_data"
    }
   ],
   "source": [
    "plt.figure(figsize=(12, 4))\n",
    "sns.boxplot(x = 'Mileage', data = cars_df)\n",
    "\n",
    "plt.show()"
   ]
  },
  {
   "cell_type": "markdown",
   "id": "eefffe89-8134-40b1-81ee-3746e91c2ba5",
   "metadata": {},
   "source": [
    "## Make"
   ]
  },
  {
   "cell_type": "code",
   "execution_count": 29,
   "id": "5c1a7711-8ae8-4432-b25e-ee9669e0b844",
   "metadata": {},
   "outputs": [
    {
     "data": {
      "image/png": "[encoded data removed]",
      "text/plain": [
       "<Figure size 1200x400 with 1 Axes>"
      ]
     },
     "metadata": {},
     "output_type": "display_data"
    }
   ],
   "source": [
    "plt.figure(figsize=(12, 4))\n",
    "sns.countplot(x = 'Make', data = cars_df)\n",
    "plt.xticks(rotation=90)\n",
    "plt.show()"
   ]
  },
  {
   "cell_type": "markdown",
   "id": "0af2fff0-7d34-4e1d-98ae-90c13590009c",
   "metadata": {},
   "source": [
    "## Data Preprocessing"
   ]
  },
  {
   "cell_type": "markdown",
   "id": "4757994e-2d31-4201-92e7-fb9fd20e73f9",
   "metadata": {},
   "source": [
    "#### Column Transformer"
   ]
  },
  {
   "cell_type": "code",
   "execution_count": 31,
   "id": "bdde1d66-7ec3-4495-8106-06bbe75a1fc9",
   "metadata": {},
   "outputs": [
    {
     "data": {
      "text/html": [
       "<style>#sk-container-id-1 {color: black;background-color: white;}#sk-container-id-1 pre{padding: 0;}#sk-container-id-1 div.sk-toggleable {background-color: white;}#sk-container-id-1 label.sk-toggleable__label {cursor: pointer;display: block;width: 100%;margin-bottom: 0;padding: 0.3em;box-sizing: border-box;text-align: center;}#sk-container-id-1 label.sk-toggleable__label-arrow:before {content: \"▸\";float: left;margin-right: 0.25em;color: #696969;}#sk-container-id-1 label.sk-toggleable__label-arrow:hover:before {color: black;}#sk-container-id-1 div.sk-estimator:hover label.sk-toggleable__label-arrow:before {color: black;}#sk-container-id-1 div.sk-toggleable__content {max-height: 0;max-width: 0;overflow: hidden;text-align: left;background-color: #f0f8ff;}#sk-container-id-1 div.sk-toggleable__content pre {margin: 0.2em;color: black;border-radius: 0.25em;background-color: #f0f8ff;}#sk-container-id-1 input.sk-toggleable__control:checked~div.sk-toggleable__content {max-height: 200px;max-width: 100%;overflow: auto;}#sk-container-id-1 input.sk-toggleable__control:checked~label.sk-toggleable__label-arrow:before {content: \"▾\";}#sk-container-id-1 div.sk-estimator input.sk-toggleable__control:checked~label.sk-toggleable__label {background-color: #d4ebff;}#sk-container-id-1 div.sk-label input.sk-toggleable__control:checked~label.sk-toggleable__label {background-color: #d4ebff;}#sk-container-id-1 input.sk-hidden--visually {border: 0;clip: rect(1px 1px 1px 1px);clip: rect(1px, 1px, 1px, 1px);height: 1px;margin: -1px;overflow: hidden;padding: 0;position: absolute;width: 1px;}#sk-container-id-1 div.sk-estimator {font-family: monospace;background-color: #f0f8ff;border: 1px dotted black;border-radius: 0.25em;box-sizing: border-box;margin-bottom: 0.5em;}#sk-container-id-1 div.sk-estimator:hover {background-color: #d4ebff;}#sk-container-id-1 div.sk-parallel-item::after {content: \"\";width: 100%;border-bottom: 1px solid gray;flex-grow: 1;}#sk-container-id-1 div.sk-label:hover label.sk-toggleable__label {background-color: #d4ebff;}#sk-container-id-1 div.sk-serial::before {content: \"\";position: absolute;border-left: 1px solid gray;box-sizing: border-box;top: 0;bottom: 0;left: 50%;z-index: 0;}#sk-container-id-1 div.sk-serial {display: flex;flex-direction: column;align-items: center;background-color: white;padding-right: 0.2em;padding-left: 0.2em;position: relative;}#sk-container-id-1 div.sk-item {position: relative;z-index: 1;}#sk-container-id-1 div.sk-parallel {display: flex;align-items: stretch;justify-content: center;background-color: white;position: relative;}#sk-container-id-1 div.sk-item::before, #sk-container-id-1 div.sk-parallel-item::before {content: \"\";position: absolute;border-left: 1px solid gray;box-sizing: border-box;top: 0;bottom: 0;left: 50%;z-index: -1;}#sk-container-id-1 div.sk-parallel-item {display: flex;flex-direction: column;z-index: 1;position: relative;background-color: white;}#sk-container-id-1 div.sk-parallel-item:first-child::after {align-self: flex-end;width: 50%;}#sk-container-id-1 div.sk-parallel-item:last-child::after {align-self: flex-start;width: 50%;}#sk-container-id-1 div.sk-parallel-item:only-child::after {width: 0;}#sk-container-id-1 div.sk-dashed-wrapped {border: 1px dashed gray;margin: 0 0.4em 0.5em 0.4em;box-sizing: border-box;padding-bottom: 0.4em;background-color: white;}#sk-container-id-1 div.sk-label label {font-family: monospace;font-weight: bold;display: inline-block;line-height: 1.2em;}#sk-container-id-1 div.sk-label-container {text-align: center;}#sk-container-id-1 div.sk-container {/* jupyter's `normalize.less` sets `[hidden] { display: none; }` but bootstrap.min.css set `[hidden] { display: none !important; }` so we also need the `!important` here to be able to override the default hidden behavior on the sphinx rendered scikit-learn.org. See: https://github.com/scikit-learn/scikit-learn/issues/21755 */display: inline-block !important;position: relative;}#sk-container-id-1 div.sk-text-repr-fallback {display: none;}</style><div id=\"sk-container-id-1\" class=\"sk-top-container\"><div class=\"sk-text-repr-fallback\"><pre>ColumnTransformer(transformers=[(&#x27;OneHotEncoding&#x27;,\n",
       "                                 OneHotEncoder(drop=&#x27;first&#x27;,\n",
       "                                               handle_unknown=&#x27;ignore&#x27;),\n",
       "                                 [&#x27;Make&#x27;, &#x27;Model&#x27;]),\n",
       "                                (&#x27;MinMaxScaler&#x27;, MinMaxScaler(), [&#x27;Mileage&#x27;])])</pre><b>In a Jupyter environment, please rerun this cell to show the HTML representation or trust the notebook. <br />On GitHub, the HTML representation is unable to render, please try loading this page with nbviewer.org.</b></div><div class=\"sk-container\" hidden><div class=\"sk-item sk-dashed-wrapped\"><div class=\"sk-label-container\"><div class=\"sk-label sk-toggleable\"><input class=\"sk-toggleable__control sk-hidden--visually\" id=\"sk-estimator-id-1\" type=\"checkbox\" ><label for=\"sk-estimator-id-1\" class=\"sk-toggleable__label sk-toggleable__label-arrow\">ColumnTransformer</label><div class=\"sk-toggleable__content\"><pre>ColumnTransformer(transformers=[(&#x27;OneHotEncoding&#x27;,\n",
       "                                 OneHotEncoder(drop=&#x27;first&#x27;,\n",
       "                                               handle_unknown=&#x27;ignore&#x27;),\n",
       "                                 [&#x27;Make&#x27;, &#x27;Model&#x27;]),\n",
       "                                (&#x27;MinMaxScaler&#x27;, MinMaxScaler(), [&#x27;Mileage&#x27;])])</pre></div></div></div><div class=\"sk-parallel\"><div class=\"sk-parallel-item\"><div class=\"sk-item\"><div class=\"sk-label-container\"><div class=\"sk-label sk-toggleable\"><input class=\"sk-toggleable__control sk-hidden--visually\" id=\"sk-estimator-id-2\" type=\"checkbox\" ><label for=\"sk-estimator-id-2\" class=\"sk-toggleable__label sk-toggleable__label-arrow\">OneHotEncoding</label><div class=\"sk-toggleable__content\"><pre>[&#x27;Make&#x27;, &#x27;Model&#x27;]</pre></div></div></div><div class=\"sk-serial\"><div class=\"sk-item\"><div class=\"sk-estimator sk-toggleable\"><input class=\"sk-toggleable__control sk-hidden--visually\" id=\"sk-estimator-id-3\" type=\"checkbox\" ><label for=\"sk-estimator-id-3\" class=\"sk-toggleable__label sk-toggleable__label-arrow\">OneHotEncoder</label><div class=\"sk-toggleable__content\"><pre>OneHotEncoder(drop=&#x27;first&#x27;, handle_unknown=&#x27;ignore&#x27;)</pre></div></div></div></div></div></div><div class=\"sk-parallel-item\"><div class=\"sk-item\"><div class=\"sk-label-container\"><div class=\"sk-label sk-toggleable\"><input class=\"sk-toggleable__control sk-hidden--visually\" id=\"sk-estimator-id-4\" type=\"checkbox\" ><label for=\"sk-estimator-id-4\" class=\"sk-toggleable__label sk-toggleable__label-arrow\">MinMaxScaler</label><div class=\"sk-toggleable__content\"><pre>[&#x27;Mileage&#x27;]</pre></div></div></div><div class=\"sk-serial\"><div class=\"sk-item\"><div class=\"sk-estimator sk-toggleable\"><input class=\"sk-toggleable__control sk-hidden--visually\" id=\"sk-estimator-id-5\" type=\"checkbox\" ><label for=\"sk-estimator-id-5\" class=\"sk-toggleable__label sk-toggleable__label-arrow\">MinMaxScaler</label><div class=\"sk-toggleable__content\"><pre>MinMaxScaler()</pre></div></div></div></div></div></div></div></div></div></div>"
      ],
      "text/plain": [
       "ColumnTransformer(transformers=[('OneHotEncoding',\n",
       "                                 OneHotEncoder(drop='first',\n",
       "                                               handle_unknown='ignore'),\n",
       "                                 ['Make', 'Model']),\n",
       "                                ('MinMaxScaler', MinMaxScaler(), ['Mileage'])])"
      ]
     },
     "execution_count": 31,
     "metadata": {},
     "output_type": "execute_result"
    }
   ],
   "source": [
    "from sklearn.compose import ColumnTransformer\n",
    "from sklearn.preprocessing import OneHotEncoder, MinMaxScaler, OrdinalEncoder\n",
    "\n",
    "ct = ColumnTransformer(transformers=[('OneHotEncoding', OneHotEncoder(drop='first', handle_unknown='ignore', sparse_output=True), ['Make','Model']),\n",
    "                                     ('MinMaxScaler', MinMaxScaler(), ['Mileage'])], remainder='drop')\n",
    "\n",
    "ct"
   ]
  },
  {
   "cell_type": "markdown",
   "id": "95ce2de8-16aa-48d2-ac2d-c99807a4a19e",
   "metadata": {},
   "source": [
    "## Data Splitting"
   ]
  },
  {
   "cell_type": "code",
   "execution_count": 34,
   "id": "23e3873d-eb66-4af1-8689-bb45f195b463",
   "metadata": {},
   "outputs": [],
   "source": [
    "from sklearn.model_selection import train_test_split"
   ]
  },
  {
   "cell_type": "code",
   "execution_count": 32,
   "id": "e0c61389-6f44-4186-815f-cfd6130a61c1",
   "metadata": {},
   "outputs": [
    {
     "data": {
      "text/plain": [
       "((851114, 3), (851114,))"
      ]
     },
     "execution_count": 32,
     "metadata": {},
     "output_type": "execute_result"
    }
   ],
   "source": [
    "X = cars_df[['Mileage', 'Make', 'Model']]\n",
    "Y = cars_df['Price']\n",
    "\n",
    "X.shape, Y.shape"
   ]
  },
  {
   "cell_type": "code",
   "execution_count": 36,
   "id": "d1114a3f-56e3-44b0-b382-179e449915dc",
   "metadata": {},
   "outputs": [
    {
     "data": {
      "text/plain": [
       "((680891, 3), (680891,))"
      ]
     },
     "execution_count": 36,
     "metadata": {},
     "output_type": "execute_result"
    }
   ],
   "source": [
    "X_train, X_test, y_train, y_test = train_test_split(X, Y, test_size=0.2, random_state= 3, shuffle=True)\n",
    "X_train.shape, y_train.shape"
   ]
  },
  {
   "cell_type": "markdown",
   "id": "9e010607-0512-40be-9184-5b96e39939b6",
   "metadata": {},
   "source": [
    "## Model Building"
   ]
  },
  {
   "cell_type": "code",
   "execution_count": 37,
   "id": "45bab958-5b1c-488a-acbf-d24dd163426e",
   "metadata": {},
   "outputs": [
    {
     "data": {
      "text/html": [
       "<style>#sk-container-id-2 {color: black;background-color: white;}#sk-container-id-2 pre{padding: 0;}#sk-container-id-2 div.sk-toggleable {background-color: white;}#sk-container-id-2 label.sk-toggleable__label {cursor: pointer;display: block;width: 100%;margin-bottom: 0;padding: 0.3em;box-sizing: border-box;text-align: center;}#sk-container-id-2 label.sk-toggleable__label-arrow:before {content: \"▸\";float: left;margin-right: 0.25em;color: #696969;}#sk-container-id-2 label.sk-toggleable__label-arrow:hover:before {color: black;}#sk-container-id-2 div.sk-estimator:hover label.sk-toggleable__label-arrow:before {color: black;}#sk-container-id-2 div.sk-toggleable__content {max-height: 0;max-width: 0;overflow: hidden;text-align: left;background-color: #f0f8ff;}#sk-container-id-2 div.sk-toggleable__content pre {margin: 0.2em;color: black;border-radius: 0.25em;background-color: #f0f8ff;}#sk-container-id-2 input.sk-toggleable__control:checked~div.sk-toggleable__content {max-height: 200px;max-width: 100%;overflow: auto;}#sk-container-id-2 input.sk-toggleable__control:checked~label.sk-toggleable__label-arrow:before {content: \"▾\";}#sk-container-id-2 div.sk-estimator input.sk-toggleable__control:checked~label.sk-toggleable__label {background-color: #d4ebff;}#sk-container-id-2 div.sk-label input.sk-toggleable__control:checked~label.sk-toggleable__label {background-color: #d4ebff;}#sk-container-id-2 input.sk-hidden--visually {border: 0;clip: rect(1px 1px 1px 1px);clip: rect(1px, 1px, 1px, 1px);height: 1px;margin: -1px;overflow: hidden;padding: 0;position: absolute;width: 1px;}#sk-container-id-2 div.sk-estimator {font-family: monospace;background-color: #f0f8ff;border: 1px dotted black;border-radius: 0.25em;box-sizing: border-box;margin-bottom: 0.5em;}#sk-container-id-2 div.sk-estimator:hover {background-color: #d4ebff;}#sk-container-id-2 div.sk-parallel-item::after {content: \"\";width: 100%;border-bottom: 1px solid gray;flex-grow: 1;}#sk-container-id-2 div.sk-label:hover label.sk-toggleable__label {background-color: #d4ebff;}#sk-container-id-2 div.sk-serial::before {content: \"\";position: absolute;border-left: 1px solid gray;box-sizing: border-box;top: 0;bottom: 0;left: 50%;z-index: 0;}#sk-container-id-2 div.sk-serial {display: flex;flex-direction: column;align-items: center;background-color: white;padding-right: 0.2em;padding-left: 0.2em;position: relative;}#sk-container-id-2 div.sk-item {position: relative;z-index: 1;}#sk-container-id-2 div.sk-parallel {display: flex;align-items: stretch;justify-content: center;background-color: white;position: relative;}#sk-container-id-2 div.sk-item::before, #sk-container-id-2 div.sk-parallel-item::before {content: \"\";position: absolute;border-left: 1px solid gray;box-sizing: border-box;top: 0;bottom: 0;left: 50%;z-index: -1;}#sk-container-id-2 div.sk-parallel-item {display: flex;flex-direction: column;z-index: 1;position: relative;background-color: white;}#sk-container-id-2 div.sk-parallel-item:first-child::after {align-self: flex-end;width: 50%;}#sk-container-id-2 div.sk-parallel-item:last-child::after {align-self: flex-start;width: 50%;}#sk-container-id-2 div.sk-parallel-item:only-child::after {width: 0;}#sk-container-id-2 div.sk-dashed-wrapped {border: 1px dashed gray;margin: 0 0.4em 0.5em 0.4em;box-sizing: border-box;padding-bottom: 0.4em;background-color: white;}#sk-container-id-2 div.sk-label label {font-family: monospace;font-weight: bold;display: inline-block;line-height: 1.2em;}#sk-container-id-2 div.sk-label-container {text-align: center;}#sk-container-id-2 div.sk-container {/* jupyter's `normalize.less` sets `[hidden] { display: none; }` but bootstrap.min.css set `[hidden] { display: none !important; }` so we also need the `!important` here to be able to override the default hidden behavior on the sphinx rendered scikit-learn.org. See: https://github.com/scikit-learn/scikit-learn/issues/21755 */display: inline-block !important;position: relative;}#sk-container-id-2 div.sk-text-repr-fallback {display: none;}</style><div id=\"sk-container-id-2\" class=\"sk-top-container\"><div class=\"sk-text-repr-fallback\"><pre>Pipeline(steps=[(&#x27;ct&#x27;,\n",
       "                 ColumnTransformer(transformers=[(&#x27;OneHotEncoding&#x27;,\n",
       "                                                  OneHotEncoder(drop=&#x27;first&#x27;,\n",
       "                                                                handle_unknown=&#x27;ignore&#x27;),\n",
       "                                                  [&#x27;Make&#x27;, &#x27;Model&#x27;]),\n",
       "                                                 (&#x27;MinMaxScaler&#x27;,\n",
       "                                                  MinMaxScaler(),\n",
       "                                                  [&#x27;Mileage&#x27;])])),\n",
       "                (&#x27;lin_reg&#x27;, LinearRegression())])</pre><b>In a Jupyter environment, please rerun this cell to show the HTML representation or trust the notebook. <br />On GitHub, the HTML representation is unable to render, please try loading this page with nbviewer.org.</b></div><div class=\"sk-container\" hidden><div class=\"sk-item sk-dashed-wrapped\"><div class=\"sk-label-container\"><div class=\"sk-label sk-toggleable\"><input class=\"sk-toggleable__control sk-hidden--visually\" id=\"sk-estimator-id-6\" type=\"checkbox\" ><label for=\"sk-estimator-id-6\" class=\"sk-toggleable__label sk-toggleable__label-arrow\">Pipeline</label><div class=\"sk-toggleable__content\"><pre>Pipeline(steps=[(&#x27;ct&#x27;,\n",
       "                 ColumnTransformer(transformers=[(&#x27;OneHotEncoding&#x27;,\n",
       "                                                  OneHotEncoder(drop=&#x27;first&#x27;,\n",
       "                                                                handle_unknown=&#x27;ignore&#x27;),\n",
       "                                                  [&#x27;Make&#x27;, &#x27;Model&#x27;]),\n",
       "                                                 (&#x27;MinMaxScaler&#x27;,\n",
       "                                                  MinMaxScaler(),\n",
       "                                                  [&#x27;Mileage&#x27;])])),\n",
       "                (&#x27;lin_reg&#x27;, LinearRegression())])</pre></div></div></div><div class=\"sk-serial\"><div class=\"sk-item sk-dashed-wrapped\"><div class=\"sk-label-container\"><div class=\"sk-label sk-toggleable\"><input class=\"sk-toggleable__control sk-hidden--visually\" id=\"sk-estimator-id-7\" type=\"checkbox\" ><label for=\"sk-estimator-id-7\" class=\"sk-toggleable__label sk-toggleable__label-arrow\">ct: ColumnTransformer</label><div class=\"sk-toggleable__content\"><pre>ColumnTransformer(transformers=[(&#x27;OneHotEncoding&#x27;,\n",
       "                                 OneHotEncoder(drop=&#x27;first&#x27;,\n",
       "                                               handle_unknown=&#x27;ignore&#x27;),\n",
       "                                 [&#x27;Make&#x27;, &#x27;Model&#x27;]),\n",
       "                                (&#x27;MinMaxScaler&#x27;, MinMaxScaler(), [&#x27;Mileage&#x27;])])</pre></div></div></div><div class=\"sk-parallel\"><div class=\"sk-parallel-item\"><div class=\"sk-item\"><div class=\"sk-label-container\"><div class=\"sk-label sk-toggleable\"><input class=\"sk-toggleable__control sk-hidden--visually\" id=\"sk-estimator-id-8\" type=\"checkbox\" ><label for=\"sk-estimator-id-8\" class=\"sk-toggleable__label sk-toggleable__label-arrow\">OneHotEncoding</label><div class=\"sk-toggleable__content\"><pre>[&#x27;Make&#x27;, &#x27;Model&#x27;]</pre></div></div></div><div class=\"sk-serial\"><div class=\"sk-item\"><div class=\"sk-estimator sk-toggleable\"><input class=\"sk-toggleable__control sk-hidden--visually\" id=\"sk-estimator-id-9\" type=\"checkbox\" ><label for=\"sk-estimator-id-9\" class=\"sk-toggleable__label sk-toggleable__label-arrow\">OneHotEncoder</label><div class=\"sk-toggleable__content\"><pre>OneHotEncoder(drop=&#x27;first&#x27;, handle_unknown=&#x27;ignore&#x27;)</pre></div></div></div></div></div></div><div class=\"sk-parallel-item\"><div class=\"sk-item\"><div class=\"sk-label-container\"><div class=\"sk-label sk-toggleable\"><input class=\"sk-toggleable__control sk-hidden--visually\" id=\"sk-estimator-id-10\" type=\"checkbox\" ><label for=\"sk-estimator-id-10\" class=\"sk-toggleable__label sk-toggleable__label-arrow\">MinMaxScaler</label><div class=\"sk-toggleable__content\"><pre>[&#x27;Mileage&#x27;]</pre></div></div></div><div class=\"sk-serial\"><div class=\"sk-item\"><div class=\"sk-estimator sk-toggleable\"><input class=\"sk-toggleable__control sk-hidden--visually\" id=\"sk-estimator-id-11\" type=\"checkbox\" ><label for=\"sk-estimator-id-11\" class=\"sk-toggleable__label sk-toggleable__label-arrow\">MinMaxScaler</label><div class=\"sk-toggleable__content\"><pre>MinMaxScaler()</pre></div></div></div></div></div></div></div></div><div class=\"sk-item\"><div class=\"sk-estimator sk-toggleable\"><input class=\"sk-toggleable__control sk-hidden--visually\" id=\"sk-estimator-id-12\" type=\"checkbox\" ><label for=\"sk-estimator-id-12\" class=\"sk-toggleable__label sk-toggleable__label-arrow\">LinearRegression</label><div class=\"sk-toggleable__content\"><pre>LinearRegression()</pre></div></div></div></div></div></div></div>"
      ],
      "text/plain": [
       "Pipeline(steps=[('ct',\n",
       "                 ColumnTransformer(transformers=[('OneHotEncoding',\n",
       "                                                  OneHotEncoder(drop='first',\n",
       "                                                                handle_unknown='ignore'),\n",
       "                                                  ['Make', 'Model']),\n",
       "                                                 ('MinMaxScaler',\n",
       "                                                  MinMaxScaler(),\n",
       "                                                  ['Mileage'])])),\n",
       "                ('lin_reg', LinearRegression())])"
      ]
     },
     "execution_count": 37,
     "metadata": {},
     "output_type": "execute_result"
    }
   ],
   "source": [
    "from sklearn.linear_model import LinearRegression\n",
    "from sklearn.pipeline import Pipeline\n",
    "\n",
    "pipe = Pipeline(steps=[('ct', ct), ('lin_reg', LinearRegression())])\n",
    "pipe"
   ]
  },
  {
   "cell_type": "markdown",
   "id": "c0acb1f6-779a-485c-b919-1512a726d4de",
   "metadata": {},
   "source": [
    "## Model Training and Evaluating"
   ]
  },
  {
   "cell_type": "code",
   "execution_count": 38,
   "id": "a98272db-a30b-4939-88b8-54f8f066e1a2",
   "metadata": {},
   "outputs": [
    {
     "data": {
      "text/html": [
       "<style>#sk-container-id-3 {color: black;background-color: white;}#sk-container-id-3 pre{padding: 0;}#sk-container-id-3 div.sk-toggleable {background-color: white;}#sk-container-id-3 label.sk-toggleable__label {cursor: pointer;display: block;width: 100%;margin-bottom: 0;padding: 0.3em;box-sizing: border-box;text-align: center;}#sk-container-id-3 label.sk-toggleable__label-arrow:before {content: \"▸\";float: left;margin-right: 0.25em;color: #696969;}#sk-container-id-3 label.sk-toggleable__label-arrow:hover:before {color: black;}#sk-container-id-3 div.sk-estimator:hover label.sk-toggleable__label-arrow:before {color: black;}#sk-container-id-3 div.sk-toggleable__content {max-height: 0;max-width: 0;overflow: hidden;text-align: left;background-color: #f0f8ff;}#sk-container-id-3 div.sk-toggleable__content pre {margin: 0.2em;color: black;border-radius: 0.25em;background-color: #f0f8ff;}#sk-container-id-3 input.sk-toggleable__control:checked~div.sk-toggleable__content {max-height: 200px;max-width: 100%;overflow: auto;}#sk-container-id-3 input.sk-toggleable__control:checked~label.sk-toggleable__label-arrow:before {content: \"▾\";}#sk-container-id-3 div.sk-estimator input.sk-toggleable__control:checked~label.sk-toggleable__label {background-color: #d4ebff;}#sk-container-id-3 div.sk-label input.sk-toggleable__control:checked~label.sk-toggleable__label {background-color: #d4ebff;}#sk-container-id-3 input.sk-hidden--visually {border: 0;clip: rect(1px 1px 1px 1px);clip: rect(1px, 1px, 1px, 1px);height: 1px;margin: -1px;overflow: hidden;padding: 0;position: absolute;width: 1px;}#sk-container-id-3 div.sk-estimator {font-family: monospace;background-color: #f0f8ff;border: 1px dotted black;border-radius: 0.25em;box-sizing: border-box;margin-bottom: 0.5em;}#sk-container-id-3 div.sk-estimator:hover {background-color: #d4ebff;}#sk-container-id-3 div.sk-parallel-item::after {content: \"\";width: 100%;border-bottom: 1px solid gray;flex-grow: 1;}#sk-container-id-3 div.sk-label:hover label.sk-toggleable__label {background-color: #d4ebff;}#sk-container-id-3 div.sk-serial::before {content: \"\";position: absolute;border-left: 1px solid gray;box-sizing: border-box;top: 0;bottom: 0;left: 50%;z-index: 0;}#sk-container-id-3 div.sk-serial {display: flex;flex-direction: column;align-items: center;background-color: white;padding-right: 0.2em;padding-left: 0.2em;position: relative;}#sk-container-id-3 div.sk-item {position: relative;z-index: 1;}#sk-container-id-3 div.sk-parallel {display: flex;align-items: stretch;justify-content: center;background-color: white;position: relative;}#sk-container-id-3 div.sk-item::before, #sk-container-id-3 div.sk-parallel-item::before {content: \"\";position: absolute;border-left: 1px solid gray;box-sizing: border-box;top: 0;bottom: 0;left: 50%;z-index: -1;}#sk-container-id-3 div.sk-parallel-item {display: flex;flex-direction: column;z-index: 1;position: relative;background-color: white;}#sk-container-id-3 div.sk-parallel-item:first-child::after {align-self: flex-end;width: 50%;}#sk-container-id-3 div.sk-parallel-item:last-child::after {align-self: flex-start;width: 50%;}#sk-container-id-3 div.sk-parallel-item:only-child::after {width: 0;}#sk-container-id-3 div.sk-dashed-wrapped {border: 1px dashed gray;margin: 0 0.4em 0.5em 0.4em;box-sizing: border-box;padding-bottom: 0.4em;background-color: white;}#sk-container-id-3 div.sk-label label {font-family: monospace;font-weight: bold;display: inline-block;line-height: 1.2em;}#sk-container-id-3 div.sk-label-container {text-align: center;}#sk-container-id-3 div.sk-container {/* jupyter's `normalize.less` sets `[hidden] { display: none; }` but bootstrap.min.css set `[hidden] { display: none !important; }` so we also need the `!important` here to be able to override the default hidden behavior on the sphinx rendered scikit-learn.org. See: https://github.com/scikit-learn/scikit-learn/issues/21755 */display: inline-block !important;position: relative;}#sk-container-id-3 div.sk-text-repr-fallback {display: none;}</style><div id=\"sk-container-id-3\" class=\"sk-top-container\"><div class=\"sk-text-repr-fallback\"><pre>Pipeline(steps=[(&#x27;ct&#x27;,\n",
       "                 ColumnTransformer(transformers=[(&#x27;OneHotEncoding&#x27;,\n",
       "                                                  OneHotEncoder(drop=&#x27;first&#x27;,\n",
       "                                                                handle_unknown=&#x27;ignore&#x27;),\n",
       "                                                  [&#x27;Make&#x27;, &#x27;Model&#x27;]),\n",
       "                                                 (&#x27;MinMaxScaler&#x27;,\n",
       "                                                  MinMaxScaler(),\n",
       "                                                  [&#x27;Mileage&#x27;])])),\n",
       "                (&#x27;lin_reg&#x27;, LinearRegression())])</pre><b>In a Jupyter environment, please rerun this cell to show the HTML representation or trust the notebook. <br />On GitHub, the HTML representation is unable to render, please try loading this page with nbviewer.org.</b></div><div class=\"sk-container\" hidden><div class=\"sk-item sk-dashed-wrapped\"><div class=\"sk-label-container\"><div class=\"sk-label sk-toggleable\"><input class=\"sk-toggleable__control sk-hidden--visually\" id=\"sk-estimator-id-13\" type=\"checkbox\" ><label for=\"sk-estimator-id-13\" class=\"sk-toggleable__label sk-toggleable__label-arrow\">Pipeline</label><div class=\"sk-toggleable__content\"><pre>Pipeline(steps=[(&#x27;ct&#x27;,\n",
       "                 ColumnTransformer(transformers=[(&#x27;OneHotEncoding&#x27;,\n",
       "                                                  OneHotEncoder(drop=&#x27;first&#x27;,\n",
       "                                                                handle_unknown=&#x27;ignore&#x27;),\n",
       "                                                  [&#x27;Make&#x27;, &#x27;Model&#x27;]),\n",
       "                                                 (&#x27;MinMaxScaler&#x27;,\n",
       "                                                  MinMaxScaler(),\n",
       "                                                  [&#x27;Mileage&#x27;])])),\n",
       "                (&#x27;lin_reg&#x27;, LinearRegression())])</pre></div></div></div><div class=\"sk-serial\"><div class=\"sk-item sk-dashed-wrapped\"><div class=\"sk-label-container\"><div class=\"sk-label sk-toggleable\"><input class=\"sk-toggleable__control sk-hidden--visually\" id=\"sk-estimator-id-14\" type=\"checkbox\" ><label for=\"sk-estimator-id-14\" class=\"sk-toggleable__label sk-toggleable__label-arrow\">ct: ColumnTransformer</label><div class=\"sk-toggleable__content\"><pre>ColumnTransformer(transformers=[(&#x27;OneHotEncoding&#x27;,\n",
       "                                 OneHotEncoder(drop=&#x27;first&#x27;,\n",
       "                                               handle_unknown=&#x27;ignore&#x27;),\n",
       "                                 [&#x27;Make&#x27;, &#x27;Model&#x27;]),\n",
       "                                (&#x27;MinMaxScaler&#x27;, MinMaxScaler(), [&#x27;Mileage&#x27;])])</pre></div></div></div><div class=\"sk-parallel\"><div class=\"sk-parallel-item\"><div class=\"sk-item\"><div class=\"sk-label-container\"><div class=\"sk-label sk-toggleable\"><input class=\"sk-toggleable__control sk-hidden--visually\" id=\"sk-estimator-id-15\" type=\"checkbox\" ><label for=\"sk-estimator-id-15\" class=\"sk-toggleable__label sk-toggleable__label-arrow\">OneHotEncoding</label><div class=\"sk-toggleable__content\"><pre>[&#x27;Make&#x27;, &#x27;Model&#x27;]</pre></div></div></div><div class=\"sk-serial\"><div class=\"sk-item\"><div class=\"sk-estimator sk-toggleable\"><input class=\"sk-toggleable__control sk-hidden--visually\" id=\"sk-estimator-id-16\" type=\"checkbox\" ><label for=\"sk-estimator-id-16\" class=\"sk-toggleable__label sk-toggleable__label-arrow\">OneHotEncoder</label><div class=\"sk-toggleable__content\"><pre>OneHotEncoder(drop=&#x27;first&#x27;, handle_unknown=&#x27;ignore&#x27;)</pre></div></div></div></div></div></div><div class=\"sk-parallel-item\"><div class=\"sk-item\"><div class=\"sk-label-container\"><div class=\"sk-label sk-toggleable\"><input class=\"sk-toggleable__control sk-hidden--visually\" id=\"sk-estimator-id-17\" type=\"checkbox\" ><label for=\"sk-estimator-id-17\" class=\"sk-toggleable__label sk-toggleable__label-arrow\">MinMaxScaler</label><div class=\"sk-toggleable__content\"><pre>[&#x27;Mileage&#x27;]</pre></div></div></div><div class=\"sk-serial\"><div class=\"sk-item\"><div class=\"sk-estimator sk-toggleable\"><input class=\"sk-toggleable__control sk-hidden--visually\" id=\"sk-estimator-id-18\" type=\"checkbox\" ><label for=\"sk-estimator-id-18\" class=\"sk-toggleable__label sk-toggleable__label-arrow\">MinMaxScaler</label><div class=\"sk-toggleable__content\"><pre>MinMaxScaler()</pre></div></div></div></div></div></div></div></div><div class=\"sk-item\"><div class=\"sk-estimator sk-toggleable\"><input class=\"sk-toggleable__control sk-hidden--visually\" id=\"sk-estimator-id-19\" type=\"checkbox\" ><label for=\"sk-estimator-id-19\" class=\"sk-toggleable__label sk-toggleable__label-arrow\">LinearRegression</label><div class=\"sk-toggleable__content\"><pre>LinearRegression()</pre></div></div></div></div></div></div></div>"
      ],
      "text/plain": [
       "Pipeline(steps=[('ct',\n",
       "                 ColumnTransformer(transformers=[('OneHotEncoding',\n",
       "                                                  OneHotEncoder(drop='first',\n",
       "                                                                handle_unknown='ignore'),\n",
       "                                                  ['Make', 'Model']),\n",
       "                                                 ('MinMaxScaler',\n",
       "                                                  MinMaxScaler(),\n",
       "                                                  ['Mileage'])])),\n",
       "                ('lin_reg', LinearRegression())])"
      ]
     },
     "execution_count": 38,
     "metadata": {},
     "output_type": "execute_result"
    }
   ],
   "source": [
    "pipe.fit(X_train, y_train)"
   ]
  },
  {
   "cell_type": "code",
   "execution_count": 39,
   "id": "657128cc-df1b-4b10-b382-fddab3873ff1",
   "metadata": {},
   "outputs": [
    {
     "data": {
      "text/plain": [
       "0.818586439054424"
      ]
     },
     "execution_count": 39,
     "metadata": {},
     "output_type": "execute_result"
    }
   ],
   "source": [
    "pipe.score(X_test, y_test)"
   ]
  },
  {
   "cell_type": "markdown",
   "id": "9ce74771-98a4-407a-9458-95683671051d",
   "metadata": {},
   "source": [
    "## Model Saving and Serialization"
   ]
  },
  {
   "cell_type": "code",
   "execution_count": 53,
   "id": "ea4a9761-e4f0-43cb-9a63-40bdf82e7090",
   "metadata": {},
   "outputs": [],
   "source": [
    "x = cars_df['Make'].unique()"
   ]
  },
  {
   "cell_type": "code",
   "execution_count": 47,
   "id": "ba5b3d0a-e4c2-49ad-a28d-c6b6cd5b3e08",
   "metadata": {},
   "outputs": [
    {
     "name": "stdout",
     "output_type": "stream",
     "text": [
      "{'Acura': array(['ILX6-Speed', 'ILX5-Speed', 'ILXAutomatic', 'TSXAutomatic',\n",
      "       'TSXSpecial', 'TSX5-Speed', 'TSX4dr', 'TSX', 'ILX4dr',\n",
      "       'ILXAcuraWatch', 'ILXHybrid', 'TSXManual', 'TSXPremium',\n",
      "       'ILXPremium', 'ILXTechnology', 'TL4dr', 'TL2WD', 'TLBase',\n",
      "       'TLSpecial', 'TLAutomatic', 'TSXV6', 'TLwith', 'TLSH-AWD',\n",
      "       'TLType-S', 'TLManual', 'RDXFWD', 'TLXFWD', 'RDX4WD', 'RDXAWD',\n",
      "       'RSXAutomatic', 'RDXwith', 'RSXType-S',\n",
      "       'RDX*1-OWNER*LTHR*ROOF*BACK-UP*TECH', 'RSXManual', 'SLX4WD',\n",
      "       'RDXBase', 'RLAutomatic', 'CLAutomatic', 'TLXSH-AWD', 'CLType-S',\n",
      "       'MDX4WD', 'ZDXAWD', 'RL4dr', 'MDXAWD', 'TL3.2', 'IntegraGS',\n",
      "       'MDXACURA', 'MDXBase', 'IntegraLS', 'MDXFWD', 'ZDXBase',\n",
      "       'CLManual', 'MDXwith', 'RLXwith', 'RLXBase', 'MDXSH-AWD',\n",
      "       'RLXAutomatic', 'IntegraRS', 'MDXAdvance', 'RLXHybrid', 'MDX3.5L',\n",
      "       'MDXSport', 'NSXManual', 'NSXCoupe'], dtype=object), 'Alfa': array(['Romeo'], dtype=object), 'AM': array(['General'], dtype=object), 'Aston': array(['Martin'], dtype=object), 'Audi': array(['A44dr', 'A42dr', 'A42007.5', 'A42004', 'A42.0T', 'A45dr',\n",
      "       'A42005', 'A42007', 'A42004.5', 'A42005.5', 'A3Sedan', 'A34dr',\n",
      "       'A64dr', 'A52.0T', 'A52dr', 'A32.0T', 'A4AWD', 'A4Premium',\n",
      "       'A4ultra', 'A62.0T', 'A3Cabriolet', 'S3Premium', 'A63.0T', 'S44dr',\n",
      "       'A84dr', 'S42dr', 'Q5quattro', 'A4Season', 'A3', 'S42007',\n",
      "       'Q7quattro', 'A8', 'Q52.0T', 'TTS2dr', 'S45dr', 'TT2dr',\n",
      "       'allroad5dr', 'S42005.5', 'S4quattro', 'S42007.5', 'Q3FrontTrak',\n",
      "       'Q53.0T', 'Q3quattro', 'allroad2.0T', 'S84dr', 'Q3Premium',\n",
      "       'A63.0TDI', 'Q73.0T', 'Q52.0', 'TTSCoupe', 'S52dr', 'S3Prestige',\n",
      "       'Q53.2L', 'A4Prestige', 'RS64dr', 'A6CERTIFIED', 'TT180hp',\n",
      "       'S64dr', 'TTCoupe', 'S4Quattro', 'A5', 'A62016', 'SQ5quattro',\n",
      "       'S3quattro', 'TT3.2L', 'RS44dr', 'TTRoadster', 'S5Coupe', 'RS42dr',\n",
      "       'Q53.0TDI', 'Q53.0', 'Q5Premium', 'S5Cabriolet', 'A73.0T', 'TTSS',\n",
      "       'TT', 'SQ5Premium', 'A83.0T', 'A74dr', 'Q73.0TDI', 'TTSRoadster',\n",
      "       'S6quattro', 'A84.0T', 'S7quattro', 'S5', 'TTS2.0', 'A6Premium',\n",
      "       'allroadPremium', 'Q72.0T', 'RS', 'A84.2L', 'S4Premium',\n",
      "       'SQ5Prestige', 'S8quattro', 'A73.0TDI', 'S6Premium', 'Q73.0',\n",
      "       'S6Prestige', 'allroadPrestige', 'A7Premium', 'A7Prestige',\n",
      "       'A7Competition', 'R82dr', 'S7Premium', 'S7Prestige', 'S8Sedan',\n",
      "       'S4Prestige', 'R84.2FSI', 'S8Plus', 'R85.2', 'S8', 'R85.2FSI',\n",
      "       'R8Auto', 'R8'], dtype=object), 'Bentley': array(['Continental', 'Arnage4dr', 'Continental2dr', 'Azure2dr',\n",
      "       'Brooklands2dr', 'Flying', 'Mulsanne4dr', 'MulsanneBase',\n",
      "       'MulsanneSedan', 'ContinentalGT', 'BentaygaW12', 'MulsanneSpeed'],\n",
      "      dtype=object), 'BMW': array(['3', 'X1sDrive28i', '5', 'X1xDrive28i', '1', 'i3Hatchback',\n",
      "       'X3AWD', 'X1xDrive35i', 'X3xDrive28i', 'X1xDrive', 'X5AWD', '7',\n",
      "       'X3sDrive28i', 'X3xDrive35i', '2', 'Z4Roadster', 'X5xDrive35i',\n",
      "       'X5', 'X1Sports', '6', 'Z42dr', 'X1AWD', 'Z3Roadster', '4',\n",
      "       'X5xDrive50i', 'X3xDrive28d', 'X5xDrive35d', 'X4xDrive28i',\n",
      "       'X6AWD', 'Z4Coupe', 'i394', 'X5sDrive35i', 'Z3Z3', 'X535i',\n",
      "       'Z4sDrive28i', 'Z4sDrive35i', 'Z4Z4', 'X4xDrive35i', 'X6',\n",
      "       'X6xDrive35i', 'Z3Coupe', 'X6xDrive50i', 'M34dr', 'M32dr', 'M62dr',\n",
      "       'M54dr', 'Z4sDrive35is', 'M3M3', 'M3Convertible', 'X4xDriveM40i',\n",
      "       '8', 'X6sDrive35i', 'M3Coupe', 'M5Sedan', 'M4Coupe', 'M2Coupe',\n",
      "       'X5xDrive40e', 'X4M40i', 'M6Convertible', 'M6M6', 'M3Sedan',\n",
      "       'M4Convertible', 'M6Coupe'], dtype=object), 'Buick': array(['Verano1SD', 'VeranoBase', 'VeranoSport', 'VeranoConvenience',\n",
      "       'VeranoVerano', 'Verano4dr', 'VeranoLeather', 'Rendezvous4dr',\n",
      "       'Verano1SV', 'RendezvousFWD', 'Verano', 'VeranoPremium',\n",
      "       'VeranoTurbo', 'RendezvousCX', 'RendezvousCXL', 'VeranoFWD',\n",
      "       'Terraza4dr', 'EncoreFWD', 'EncoreConvenience', 'EncoreLeather',\n",
      "       'EncorePremium', 'EncoreEncore', 'EncoreAWD', 'EncoreSport',\n",
      "       'LaCrosse4dr', 'LaCrosseFWD', 'Lucerne4dr', 'LaCrosseAWD',\n",
      "       'Regal4dr', 'Skylark4dr', 'Encore', 'RegalTurbo', 'RegalPremium',\n",
      "       'RegalSport', 'RegalBase', 'RegalRegal', 'Regal4DR',\n",
      "       'LaCrosseLeather', 'Rainier4dr', 'VeranoSedan', 'LeSabre4dr',\n",
      "       'RegalFWD', 'LaCrosseCXL', 'Regal', 'Regal1FL', 'RegalGS',\n",
      "       'CascadaPremium', 'RegalSedan', 'RainierRWD', 'EnclaveFWD',\n",
      "       'RegalBARGAIN', 'RegalFleet', 'RainierAWD', 'EnclaveAWD',\n",
      "       'EnclaveConvenience', 'Riviera2dr', 'Century4dr', 'EnclaveLeather',\n",
      "       'EnvisionFWD', 'EnclaveBase', 'EnvisionAWD', 'EnvisionPremium',\n",
      "       'EnclavePremium', 'CascadaConvertible', 'CascadaSport', 'Park',\n",
      "       'CenturyCustom', 'LeSabreLimited', 'LaCrossePremium', 'Regal97.5',\n",
      "       'CenturyCUSTOM'], dtype=object), 'Cadillac': array(['CTS4dr', 'ATS2.5L', 'ATS2.0L', 'CTS', 'ATS3.6L', 'STS4dr',\n",
      "       'SRXRWD', 'ATS', 'DTS4dr', 'SRX4dr', 'SRXAWD', 'Seville4dr',\n",
      "       'DeVille4dr', 'SRXFWD', 'SRXBase', 'Catera4dr', 'SRXLuxury',\n",
      "       'DeVille', 'XLR2dr', 'SRXStandard', 'DeVilleBase',\n",
      "       'SRXPerformance', 'SRXPremium', 'DeVilleSedan', \"d'Elegance4dr\",\n",
      "       'Concours4dr', 'DeVille4d', 'SRXLeather', 'XT5Standard', 'SRX3.6',\n",
      "       'STS-V4dr', 'XTSLuxury', 'XTSBase', 'Eldorado2dr', 'Escalade',\n",
      "       'XTSFWD', 'STS-VSTS-V', 'Escalade4dr', 'CTS-VCTS-V', 'XTS3.6L',\n",
      "       'ELRCoupe', 'XTSPremium', 'XTSPlatinum', 'XT5Luxury', 'XTSAWD',\n",
      "       'EscaladeAWD', 'CTS-V4dr', 'XTSVsport', 'Escalade2WD', 'XTS',\n",
      "       'XLR-VXLR-V', 'CT6', 'XT5Premium', 'EscaladeRWD', 'XT5Platinum',\n",
      "       'ATS-V', 'CTS-V', 'XLR-V2dr', 'EscaladeLuxury', 'EscaladePremium',\n",
      "       'EscaladePlatinum', 'EscaladeBase', 'XTSTurbo', 'XT5FWD',\n",
      "       'Escalade4WD'], dtype=object), 'Chevrolet': array(['CruzeSedan', 'EquinoxFWD', 'MalibuLS', 'MalibuLT', 'Malibu1LT',\n",
      "       'Malibu4dr', 'CruzeL', 'CruzeLS', 'Malibu2LT', 'Cruze1LT',\n",
      "       'MalibuFleet', 'Malibu', 'CruzeLT', 'Malibu4d', 'Cruze4dr',\n",
      "       'Malibu2LZ', 'Cruze2LT', 'Aveo5dr', 'CruzeHatchback', 'CruzeECO',\n",
      "       'MalibuECO', 'Aveo1LT', 'Malibu4DR', 'Tahoe2WD', 'Malibu1LTZ',\n",
      "       'MalibuL', 'CruzeLTZ', 'Malibu1LZ', 'Aveo4dr', 'Spark',\n",
      "       'Malibu3LT', 'MalibuBase', 'EquinoxAWD', 'CruzePremier', 'TraxFWD',\n",
      "       'Malibu1FL', 'MalibuSEDAN', 'SonicSedan', 'MalibuClassic',\n",
      "       'Cobalt4dr', 'MalibuSedan', 'SonicHatch', 'Equinox4dr',\n",
      "       'CruzeDiesel', 'Malibu2LTZ', 'Cobalt2dr', 'MalibuHybrid',\n",
      "       'Equinox2WD', 'TraxAWD', 'MalibuLTZ', 'Cruze', 'SonicHatchback',\n",
      "       'Cruze4d', 'MalibuPremier', 'MalibuFleet*1-Owner*Clean',\n",
      "       'ImpalaLimited', 'Cruze1FL', 'ImpalaLT', 'Impala4dr', 'Captiva',\n",
      "       'Trax', 'SparkLS', 'ImpalaPolice', 'Impala1LT', 'Silverado',\n",
      "       'ImpalaLS', 'City', 'Impala1LTZ', 'EquinoxLT', 'Equinox4d',\n",
      "       'Spark1LT', 'Colorado2WD', 'CamaroCoupe', 'ImpalaUnmarked',\n",
      "       'Equinox', 'Impala4d', 'EquinoxLTZ', 'CobaltSS', 'ImpalaLTZ',\n",
      "       'Uplander', 'Impala4', 'ImpalaSEDAN', 'Impala2LT', 'ImpalaSedan',\n",
      "       'Camaro2dr', 'Impala', 'Impala1LS', 'Trax1LT', 'ImpalaLT2',\n",
      "       'EquinoxLS', 'Spark2LT', 'TraverseFWD', 'ColoradoRegular',\n",
      "       'Camaro2LS', 'CamaroConvertible', 'Cavalier4dr', 'VoltBase',\n",
      "       'VoltPlug-In', 'TraverseAWD', 'Camaro1LS', 'Uplander4dr',\n",
      "       'CamaroLS', 'ImpalaImpala', 'ColoradoExtended', 'Cavalier2dr',\n",
      "       'Chevy', 'Colorado4WD', 'Volt5dr', 'TraverseLS', 'Impala2LTZ',\n",
      "       'TrailBlazer2WD', 'TrailBlazer4WD', 'TrailBlazer4dr', 'Impala3LT',\n",
      "       'CruzeLs', 'HHRFWD', 'Express', 'ImpalaPremier', 'C/K',\n",
      "       'Tracker4dr', 'HHR4dr', 'Traverse1LT', 'Traverse2LT',\n",
      "       'ColoradoCrew', 'Tracker2dr', 'HHR2WD', 'Tahoe4dr', 'Monte',\n",
      "       'S-102WD', 'CamaroLT', 'VoltLT', 'TahoeLS', 'Tahoe', 'Suburban4dr',\n",
      "       'Blazer2dr', 'Camaro1LT', 'TahoePolice', 'Blazer4dr', 'S-104WD',\n",
      "       'BlazerFleet', 'Prizm4dr', 'VentureExt', 'TraverseLTZ', 'Astro',\n",
      "       'New', 'Tahoe4WD', 'AveoLT', 'VentureReg', 'VoltPremier',\n",
      "       'TahoeCommercial', 'Lumina4dr', 'TahoeHeated', 'TahoeSpecial',\n",
      "       'Avalanche1500', 'Impala2', 'Suburban4WD', 'C', 'Bolt',\n",
      "       'ImpalaFirst', 'Venture4dr', 'Camaro', 'Corvette2dr',\n",
      "       'Suburban2WD', 'TahoeLT', 'SonicLT', 'SSSedan', 'AvalancheLT',\n",
      "       'SuburbanLS', 'Suburban1500', 'Avalanche2WD', 'Avalanche4WD',\n",
      "       'Tahoe2dr', 'Tahoe1500', 'Suburban2500', 'SuburbanLT',\n",
      "       'Suburban3/4', 'SuburbanFleet', 'TahoeLTZ', 'Avalanche2500',\n",
      "       'AvalancheLS', 'SSRRegular', 'Suburban', 'Spark4DR',\n",
      "       'CorvetteConvertible', 'CorvetteCoupe', 'SuburbanLTZ',\n",
      "       'AvalancheLTZ', 'TrailBlazerLS', 'CamaroSS', 'Camaro2SS',\n",
      "       'Venture', 'P', 'Corvette', 'CorvetteStingray', 'TahoePremier',\n",
      "       'Corvette427', 'CorvetteZ06', 'CorvetteZ51', 'CorvetteGrand',\n",
      "       'CorvetteZR1'], dtype=object), 'Chrysler': array(['AspenAWD', 'AspenRWD', 'Aspen2WD', 'Pacifica4dr', 'Aspen4WD',\n",
      "       '200Sedan', '200Limited', '200LX', '200S', '2004dr', '2002dr',\n",
      "       '200Convertible', '200Touring', '200', '200C', 'PacificaLX',\n",
      "       '3004dr', 'Crossfire2dr', 'Pacifica2004', '300300',\n",
      "       'PacificaTouring', '300Limited', '300300S', 'PacificaTouring-L',\n",
      "       '300300C', '300Uptown', 'Sebring4dr', '300Motown', 'Sebring2dr',\n",
      "       'Sebring', '300Luxury', 'Town', 'Sebring2004', '300M4dr',\n",
      "       'Sebring2004.5', '300C', '300John', 'PT', '300Anniversary',\n",
      "       'Cirrus4dr', 'LHS4dr', 'Concorde4dr', 'PacificaLimited', '300SRT8',\n",
      "       'Voyager4dr', 'SebringTouring', 'Prowler2dr', 'PacificaHybrid'],\n",
      "      dtype=object), 'Dodge': array(['ChargerSE', 'AvengerSE', 'Caliber4dr', 'AvengerSXT', 'Avenger4dr',\n",
      "       'CaliberSXT', 'Charger4dr', 'Charger', 'ChargerSXT', 'Caliber',\n",
      "       'AvengerR/T', 'ChargerRT', 'DartSXT', 'Charger4d', 'ChargerPolice',\n",
      "       'Magnum4dr', 'ChargerV6', 'Grand', 'DartSE', 'ChargerBase',\n",
      "       'JourneySE', 'ChargerAWD', 'CaliberExpress', 'JourneyFWD',\n",
      "       'DartAero', 'ChargerRoad/Track', 'Neon4dr', 'DartRallye',\n",
      "       'ChargerR/T', 'DartGT', 'ChallengerSXT', 'JourneySXT',\n",
      "       'JourneyAmerican', 'Stratus', 'DartLimited', 'Ram', 'JourneyAWD',\n",
      "       'Challenger2dr', 'Avenger2dr', 'JourneyR/T', 'Caravan',\n",
      "       'JourneyCrossroad', 'Dart', 'DartSXT/Rallye', 'JourneyCrew',\n",
      "       'Nitro2WD', 'ChallengerRallye', 'JourneyGT', 'JourneyLimited',\n",
      "       'Nitro4WD', 'ChargerSRT8', 'NitroSE', 'ChargerDaytona', 'NitroSXT',\n",
      "       'Dakota2WD', 'Challenger', 'ChallengerR/T', 'Dakota4WD',\n",
      "       'Durango4dr', 'Durango2WD', 'NitroSLT/RT', 'Durango4WD', 'Journey',\n",
      "       'Sprinter3500', 'CaravanSE', 'Stratus2004', 'Stratus2dr',\n",
      "       'NitroR/T', 'DurangoSXT', 'ChallengerShaker', 'Caravan4dr',\n",
      "       'NeonSE', 'Stratus4dr', 'CaravanSport', 'CaravanSXT',\n",
      "       'ChallengerGT', 'NitroSPORT', 'DurangoAWD', 'ChargerPursuit',\n",
      "       'CaliberHB', 'ChallengerSRT8', 'ChargerFleet', 'Sprinter',\n",
      "       'Intrepid4dr', 'DurangoCrew', 'DakotaBighorn/Lonestar',\n",
      "       'Sprinter2500', 'CaravanEX', 'ChargerSRT', 'DurangoLimited',\n",
      "       'Caravan4', 'DurangoGT', 'DurangoSpecial', 'DurangoCitadel',\n",
      "       'ChallengerT/A', 'CaravanES', 'StratusSE', 'ChallengerScat',\n",
      "       'DurangoPolice', 'Caravan3', 'DurangoCREW', 'ChallengerSRT',\n",
      "       'DurangoR/T', 'Challenger392', 'Neonsx', 'Nitro', 'Stratus2004.5',\n",
      "       'ChargerSCATPK', 'Viper2dr', 'SRT', 'ViperGTS', 'ViperGTC',\n",
      "       'ViperSRT', 'ViperACR'], dtype=object), 'Ferrari': array(['3602dr', '430Coupe', 'California2dr', '612', '4302dr',\n",
      "       '430Convertible', 'CaliforniaConvertible', '575M', '430Spider',\n",
      "       '599', 'FF2dr', '458', 'FFHatchback', '360Challenge', 'California',\n",
      "       '488', 'F12berlinettaCoupe', 'F12berlinetta2dr', 'GTC4LussoCoupe'],\n",
      "      dtype=object), 'FIAT': array(['500eBATTERY', '500e', '500XFWD', '500', '500XAWD', '500LEasy',\n",
      "       '500XPop', '500Pop', '500XLounge', '500Easy', '500Sport',\n",
      "       '500XTrekking', '500Ribelle', '500LPop', '500LTrekking',\n",
      "       '500Lounge', '500Turbo', '500LLounge', '500Abarth', '500cPop',\n",
      "       '500Gucci', '5001957', '124', '500LUrbana', '500cLounge',\n",
      "       '500cAbarth', '500cGQ'], dtype=object), 'Fisker': array(['Karma4dr', 'KarmaEcoSport'], dtype=object), 'Ford': array(['Taurus', 'Focus', 'FusionS', 'FusionSE', 'FocusS',\n",
      "       'FocusHatchback', 'FocusSedan', 'Fusion4dr', 'FiestaHatchback',\n",
      "       'FusionHybrid', 'FiestaSE', 'FiestaSedan', 'FocusSE',\n",
      "       'FusionTitanium', 'FiestaS', 'C-Max', 'Focus4dr', 'FocusSEL',\n",
      "       'Focus5dr', 'Fiesta4dr', 'EscapeFWD', 'Five', 'Edge4dr',\n",
      "       'Fiesta5dr', 'Fusion', 'EscapeS', 'Focus2dr', 'Focus3dr',\n",
      "       'FocusTitanium', 'EscapeTitanium', 'FiestaTitanium', 'EscapeSE',\n",
      "       'FusionPlatinum', 'Escape4dr', 'Escape4WD', 'FocusST', 'ZX22dr',\n",
      "       'MustangConvertible', 'Escape2WD', 'FusionSEL', 'F-1502WD',\n",
      "       'MustangCoupe', 'EscapeSEL', 'Mustang2dr', 'F-150XL', 'F-1504WD',\n",
      "       'EdgeSE', 'MustangV6', 'MustangFastback', 'F-150', 'ExplorerRWD',\n",
      "       'FiestaST', 'TaurusSE', 'Explorer4dr', 'EscapeXLS', 'Explorer4WD',\n",
      "       'EdgeSEL', 'Transit', 'ExplorerBase', 'Super', 'MustangEcoBoost',\n",
      "       'F-150Regular', 'EdgeFWD', 'EdgeLimited', 'TaurusSEL',\n",
      "       'EscapeSPORT', 'Mustang', 'F-150XLT', 'Freestyle4dr',\n",
      "       'FusionSport', 'EdgeAWD', 'ExplorerFWD', 'Taurus4dr',\n",
      "       'Expedition4WD', 'F-150SuperCab', 'Explorer2dr', 'TaurusLimited',\n",
      "       'Explorer2WD', 'ExplorerAWD', 'Econoline', 'EscapeBase',\n",
      "       'F-2502WD', 'ExplorerXLT', 'Freestar', 'TaurusPolice',\n",
      "       'ExplorerPolice', 'Ranger2WD', 'ExplorerLimited', 'F-150SuperCrew',\n",
      "       'TaurusSHO', 'Expedition5.4L', 'Escort2dr', 'EdgeSport',\n",
      "       'EdgeTitanium', 'Explorer', 'Expedition119\"', 'Expedition4dr',\n",
      "       'Crown', 'Windstar', 'MustangGT', 'Expedition2WD', 'F-3502WD',\n",
      "       'Club', 'Contour4dr', 'RangerXL', 'EdgeLTD', 'Expedition4.6L',\n",
      "       'ExplorerSport', 'F-2504WD', 'F-250', 'Flex4dr', 'Expedition',\n",
      "       'Ranger4WD', 'FlexSE', 'F-150Platinum', 'Escort4dr',\n",
      "       'ExpeditionXLT', 'E-Series', 'ExpeditionLimited',\n",
      "       'ExpeditionEddie', 'FlexSEL', 'F-150Lariat', 'EscortSE',\n",
      "       'FlexLimited', 'F-350', 'F-150Limited', 'F-150AWD', 'Ranger',\n",
      "       'Thunderbird2dr', 'FocusRS', 'EscortFleet', 'ExpeditionXL',\n",
      "       'Excursion137\"', 'ExpeditionKing', 'F-150FX4', \"F-150'07\",\n",
      "       'F-1502010', 'MustangShelby', 'F-150King', 'F-150SVT',\n",
      "       'Excursion2005', 'RangerEdge', 'ExpeditionEL',\n",
      "       'ExpeditionPlatinum', 'F-150Raptor', 'MustangCobra', 'GT2dr'],\n",
      "      dtype=object), 'Freightliner': array(['Sprinter'], dtype=object), 'Genesis': array(['G803.8L', 'G805.0L', 'G903.3T', 'G905.0L'], dtype=object), 'Geo': array(['Tracker2dr'], dtype=object), 'GMC': array(['TerrainAWD', 'TerrainFWD', 'Sierra', 'AcadiaFWD', 'New',\n",
      "       'TerrainSLE-2', 'TerrainSLT', 'AcadiaAWD', 'CanyonExtended',\n",
      "       'CanyonRegular', 'Yukon', 'Canyon2WD', 'Savana', 'Safari',\n",
      "       'Envoy2WD', 'Envoy4dr', 'Envoy4WD', 'Classic', 'Envoy',\n",
      "       'Canyon4WD', 'CanyonCrew', 'Yukon4dr', 'Denali4dr', 'Jimmy4dr',\n",
      "       'CanyonSLE', 'Yukon2WD', 'AcadiaSLE', 'Sonoma4WD', 'Sonoma2WD',\n",
      "       'Yukon4WD', 'Acadia', 'P', 'Jimmy2dr', 'YukonAWD', 'YukonSLE',\n",
      "       'TerrainSLT-1', 'YukonSLT1', 'Suburban1500', 'Yukon1500',\n",
      "       'YukonXL', 'Suburban2500', 'YukonCOMMERCIAL', 'YukonDenali'],\n",
      "      dtype=object), 'Honda': array(['Civic', 'Accord', 'CR-Z3dr', 'CR-ZEX', 'CR-ZCVT', 'InsightLX',\n",
      "       'CR-ZManual', 'InsightBase', 'CivicSi', 'FitAutomatic',\n",
      "       'CR-ZAutomatic', 'FitLX', 'FitEX-L', 'Fit5dr', 'FitEX', 'FitSport',\n",
      "       'Insight5dr', 'InsightEX', 'FitManual', 'CR-ZLX', 'InsightCVT',\n",
      "       'CR-VEX-L', 'CivicEX', 'CivicGX', 'CivicContinuously', 'CivicLX',\n",
      "       'CR-ZEX-L', 'Fit', 'CivicVP', 'CivicManual', 'CR-VLX', 'CR-VEX',\n",
      "       'CR-V2WD', 'HR-V2WD', 'HR-VLX', 'CR-V4WD', 'CR-VSE',\n",
      "       'InsightContinuously', 'HR-VAWD', 'HR-VEX', 'HR-VEX-L',\n",
      "       'Odyssey5dr', 'CivicDX', 'Pilot4WD', 'OdysseyLX', 'CivicCX',\n",
      "       'OdysseyEX', 'Pilot2WD', 'CR-V', 'CrosstourEX-L', 'Prelude2dr',\n",
      "       'CrosstourEX', 'OdysseyEX-L', 'CR-VTouring', 'Odyssey4dr',\n",
      "       'OdysseyEX-RES', 'Element4WD', 'PilotEX-L', 'PilotLX',\n",
      "       'Ridgeline4WD', 'PilotEX', 'OdysseySE', 'OdysseyTouring',\n",
      "       'RidgelineSport', 'RidgelineRTS', 'RidgelineRT', 'CR-VAutomatic',\n",
      "       'Passport4WD', 'PreludeAutomatic', 'RidgelineSE', 'RidgelineRTL',\n",
      "       'Element2WD', 'PilotSE', 'OdysseyMINI', 'PilotTouring',\n",
      "       'Passport2WD', 'RidgelineRTL-T', 'CivicHX', 'CR-VONE', 'S20002dr',\n",
      "       'S2000Manual', 'Odyssey2005', 'RidgelineBlack', 'RidgelineRTL-E',\n",
      "       'InsightManual', 'PilotElite', 'OdysseyElite', 'Pilot'],\n",
      "      dtype=object), 'HUMMER': array(['H34dr', 'H34WD', 'H3Alpha', 'H3', 'H3H3T', 'H24WD', 'H24dr',\n",
      "       'H14-Passenger'], dtype=object), 'Hyundai': array(['Sonata', 'ElantraSE', 'Sonata2.4L', 'ElantraLimited', 'SonataSE',\n",
      "       'SonataGLS', 'Elantra4dr', 'Sonata4dr', 'ElantraValue',\n",
      "       'ElantraGLS', 'Elantra', 'SonataSport', 'SonataLimited',\n",
      "       'Sonata1.6T', 'Elantra4DSD', 'Elantra4DR', 'ElantraSEL',\n",
      "       'ElantraSport', 'ElantraECO', 'SonataEco', 'AccentSE', 'Accent4dr',\n",
      "       'Sonata2.0T', 'Tiburon2dr', 'Elantra5dr', 'AccentValue',\n",
      "       'AccentGS', 'AccentGLS', 'Genesis', 'AccentSport',\n",
      "       'VelosterManual', 'Accent3dr', 'TucsonSE', 'TucsonFWD',\n",
      "       'TucsonGLS', 'SonataSEL', 'Accent5dr', 'VelosterAutomatic',\n",
      "       'VelosterRE:MIX', 'VelosterDual', 'TucsonAWD', 'Azera4dr',\n",
      "       'TucsonGL', 'AzeraSedan', 'VelosterTurbo', 'VelosterValue',\n",
      "       'Veloster3dr', 'Tucson4WD', 'TucsonLimited', 'Santa',\n",
      "       'VelosterRE:FLEX', 'Tucson4dr', 'TucsonEco', 'TucsonSport',\n",
      "       'AzeraLimited', 'SonataBase', 'Accent', 'Genesis4dr',\n",
      "       'TucsonNight', 'Ioniq', 'XG3004dr', 'Genesis3.8', 'VeracruzAWD',\n",
      "       'TucsonWalking', 'VeracruzFWD', 'Veloster1.6L', 'XG3504dr',\n",
      "       'Genesis5.0', 'Entourage4dr', 'Genesis3.8L', 'GenesisV6',\n",
      "       'Azera3.3L', 'Equus4dr', 'EquusSignature', 'Genesis5.0L',\n",
      "       'EquusUltimate'], dtype=object), 'INFINITI': array(['M45Sport', 'M45Base', 'G25', 'M454dr', 'QX4Luxury', 'QX4QX4',\n",
      "       'M354dr', 'G37', 'G35', 'G20Luxury', 'G20Touring', 'Q50AWD',\n",
      "       'Q40RWD', 'Q40AWD', 'I35Luxury', 'Q50RWD', 'M35x', 'M35Sport',\n",
      "       'Q50Hybrid', 'EX35RWD', 'M35Base', 'EX35AWD', 'Q504dr', 'QX50AWD',\n",
      "       'Q503.0t', 'Q502.0t', 'EX37EX37', 'QX50RWD', 'QX30Base', 'FX35AWD',\n",
      "       'FX35Base', 'QX30Sport', 'Q70V6', 'QX602WD', 'FX354dr', 'QX60FWD',\n",
      "       'Q50', 'M35hM35h', 'QX30Luxury', 'FX45AWD', 'QX60AWD', 'FX35RWD',\n",
      "       'I30Luxury', 'QX30FWD', 'I30Touring', 'FX37FX37', 'QX30Premium',\n",
      "       'M374dr', 'Q60', 'QX30AWD', 'Q70LV6', 'M564dr', 'FX35with',\n",
      "       'QX60Hybrid', 'EX37Journey', 'Q45Base', 'M56x', 'FX50AWD',\n",
      "       'QX70AWD', 'QX70RWD', 'I30Limited', 'M37Base', 'M37x', 'M37M37',\n",
      "       'FX35Limited', 'QX70V6', 'QX564dr', 'Q603.0t', 'QX562WD',\n",
      "       'JX35JX35', 'M37M37x', 'QX60Base', 'QX564WD', 'Q602.0t', 'M56M56',\n",
      "       'I30Automatic', 'QX56RWD', 'Q703.7', 'M37X', 'Q45Premium',\n",
      "       'M56M56x', 'QX56AWD', 'Q50Red', 'FX50FX50', 'Q70LV8', 'Q45with',\n",
      "       'Q70V8', 'FX352', 'Q70hHybrid', 'Q70L3.7', 'QX60', 'QX56Base',\n",
      "       'QX70V8', 'QX802WD', 'QX804WD', 'Q70L5.6', 'Q705.6', 'QX80RWD',\n",
      "       'QX80AWD'], dtype=object), 'Isuzu': array(['i-2902WD', 'Axiom4dr', 'i-2802dr', 'Rodeo4dr', 'Trooper4dr',\n",
      "       'VehiCROSS2dr', 'Ascender4dr', 'Ascender2WD', 'HombreSpacecab',\n",
      "       'HombreReg', 'i-3504dr'], dtype=object), 'Jaguar': array(['XK82dr', 'S-TYPE4dr', 'XFPremium', 'X-TYPE4dr', 'XF4dr', 'XFI4',\n",
      "       'XFXF', 'XF2009', 'XFSport', 'XFPortfolio', 'XFV6', 'XF35t',\n",
      "       'XK2dr', 'XJ4dr', 'XE25t', 'XK', 'XJ', 'XE20d', 'XF', 'XFV8',\n",
      "       'XE35t', 'XFXFR', 'XF20d', 'XJL', 'XKXK', 'XJRWD', 'XKXKR',\n",
      "       'XJAWD', 'XFR', 'XFS', 'XFSupercharged', 'F-PACE35t', 'XJBase',\n",
      "       'F-PACE25t', 'F-PACE20d', 'XJSupercharged', 'XKCoupe', 'XKR',\n",
      "       'XJR', 'XFXFR-S', 'XFR-Sport', 'F-TYPEF-Type', 'XKConvertible',\n",
      "       'F-TYPECoupe', 'F-TYPEConvertible', 'F-PACES', 'XJR-Sport',\n",
      "       'XJXJL', 'XKXKR-S', 'XFR-S', 'F-PACEFirst', 'XKR-S', 'F-TYPESVR'],\n",
      "      dtype=object), 'Jeep': array(['CompassSport', 'CompassLatitude', 'CompassHigh', 'Cherokee4WD',\n",
      "       'CompassFWD', 'Compass4WD', 'CherokeeLatitude', 'CherokeeSport',\n",
      "       'CompassAltitude', 'CherokeeFWD', 'Compass75th', 'CompassLatutide',\n",
      "       'RenegadeSport', 'PatriotSport', 'CompassLimited',\n",
      "       'CherokeeAltitude', 'CherokeeLimited', 'PatriotLatitude',\n",
      "       'CherokeeHigh', 'Compass2WD', 'PatriotFWD', 'Compass2017.5',\n",
      "       'Compass', 'RenegadeLatitude', 'Patriot75th', 'PatriotAltitude',\n",
      "       'PatriotHigh', 'PatriotLimited', 'Patriot4WD', 'RenegadeLimited',\n",
      "       'Cherokee75th', 'LibertyRWD', 'CherokeeTrailhawk', 'Grand',\n",
      "       'PatriotSPORT', 'Renegade75th', 'PatriotNorth', 'Liberty4dr',\n",
      "       'Liberty4WD', 'RenegadeJustice', 'CommanderRWD', 'Renegade4WD',\n",
      "       'Patriot2WD', 'RenegadeTrailhawk', 'CherokeeOverland',\n",
      "       'Cherokee4dr', 'Commander4WD', 'Commander4dr', 'CompassTrailhawk',\n",
      "       'Liberty2WD', 'Cherokee2dr', 'Commander2WD', 'CherokeeL',\n",
      "       'LibertySport', 'RenegadeAltitude', 'Patriot',\n",
      "       'RenegadeDeserthawk', 'Wrangler2dr', 'WranglerSport',\n",
      "       'Wrangler4WD', 'Wrangler2WD', 'WranglerWillys', 'WranglerRWD',\n",
      "       'WranglerFreedom', 'WranglerRubicon', 'WranglerSahara',\n",
      "       'WranglerBlack', 'WranglerBackcountry', 'Wrangler', 'Wrangler75th',\n",
      "       'WranglerX', 'WranglerBig', 'WranglerPolar', 'Patriot4x4',\n",
      "       'WranglerUnlimited', 'WranglerAltitude', 'WranglerHard',\n",
      "       'WranglerLWBU', 'WranglerChief', 'WranglerMoab'], dtype=object), 'Kia': array(['ForteManual', 'ForteAutomatic', 'ForteLX', 'Forte4dr', 'ForteS',\n",
      "       'Spectra4dr', 'ForteEX', 'RioSedan', 'RioLX', 'OptimaLX',\n",
      "       'Rio5-door', 'OptimaEX', 'Optima4dr', 'Spectra5dr', 'Forte',\n",
      "       'Rio5dr', 'Rio4dr', 'ForteSX', 'RioEX', 'Optima', 'Forte5LX',\n",
      "       'SportageAWD', 'OptimaSX', 'SportageLX', 'SportageFWD', 'Soul',\n",
      "       'Sportage2WD', 'SoulManual', 'Borrego2WD', 'Rio', 'Sephia4dr',\n",
      "       'SportageBase', 'SorentoLX', 'Borrego4WD', 'SorentoL',\n",
      "       'SoulAutomatic', 'SorentoAWD', 'Sportage4WD', 'Soul+',\n",
      "       'OptimaLimited', 'Optima2006.5', 'Sedona4dr', 'Soul5dr',\n",
      "       'SportageEX', 'SportageSX', 'Sorento2WD', 'Sportage4dr',\n",
      "       'Amanti4dr', 'OptimaSXL', 'Sorento4dr', 'Forte5EX', 'Soul!',\n",
      "       'SedonaEX', 'NiroEX', 'OptimaS', 'NiroFE', 'Sorento4WD',\n",
      "       'SorentoEX', 'SedonaLX', 'NiroLX', 'SoulBase', 'SoulEV',\n",
      "       'Forte5SX', 'SorentoSX', 'SedonaL', 'Sedona', 'Rondo4dr',\n",
      "       'Soul#NAME?', 'SorentoLimited', 'SoulExclaim', 'NiroTouring',\n",
      "       'SedonaSX', 'CadenzaPremium', 'CadenzaSedan', 'CadenzaLimited',\n",
      "       'K900Luxury', 'K900Premium', 'K900V6', 'SedonaLimited', 'K900V8',\n",
      "       'SedonaSX-L', 'Sportage2dr', 'CadenzaTechnology'], dtype=object), 'Lamborghini': array(['Gallardo2dr', 'Gallardo', 'GallardoCoupe', 'Murcielago6.2L',\n",
      "       'GallardoConvertible', 'Murcielago2dr', 'HuracanLP', 'HuracanRWD',\n",
      "       'Aventador2dr', 'HuracanSpyder', 'Aventador',\n",
      "       'AventadorConvertible', 'AventadorCoupe'], dtype=object), 'Land': array(['Rover'], dtype=object), 'Lexus': array(['HS', 'ES', 'IS', 'RX', 'CT', 'SC', 'NX', 'GS', 'GX', 'CTCT', 'LS',\n",
      "       'ISIS', 'NXFWD', 'RC', 'NXAWD', 'RCRC', 'ESES', 'LX', 'NXF',\n",
      "       'RXRX', 'GSGS', 'GXGX', 'GXGX460', 'LSLS', 'LX4WD', 'LCLC',\n",
      "       'LFA2dr'], dtype=object), 'Lincoln': array(['Aviator4dr', 'AviatorAWD', 'Zephyr4dr', 'Aviator2WD', 'MKCFWD',\n",
      "       'MKZ4dr', 'MKZFWD', 'Continental4dr', 'MKCAWD', 'MKZHybrid', 'MKZ',\n",
      "       'MKZAWD', 'MKXFWD', 'MKZPremiere', 'MKXAWD', 'MKX4dr', 'MKX2WD',\n",
      "       'LS4dr', 'Navigator4dr', 'MKXMKX', 'MKZSelect', 'Navigator4WD',\n",
      "       'Navigator2WD', 'MKS4dr', 'MKC', 'MKZReserve', 'MKS3.5L',\n",
      "       'MKS3.7L', 'Town', 'MKZBlack', 'Mark', 'MKXPremiere', 'MKT4dr',\n",
      "       'MKS', 'Blackwood2WD', 'MKXSelect', 'MKCBlack', 'MKTTOWN',\n",
      "       'MKT3.5L', 'MKXReserve', 'ContinentalPremiere', 'MKT3.7L',\n",
      "       'MKTLivery', 'MKT', 'MKTAWD', 'MKTTown', 'ContinentalSelect',\n",
      "       'MKTEcoBoost', 'Navigator', 'MKTAll', 'ContinentalReserve',\n",
      "       'MKTLIVERY', 'ContinentalBlack'], dtype=object), 'Lotus': array(['Elise2dr', 'Evora2dr', 'EvoraCoupe', 'Exige2dr', 'Esprit2dr',\n",
      "       'Evora'], dtype=object), 'Maserati': array(['Quattroporte4dr', 'QuattroporteExecutive', 'QuattroporteSport',\n",
      "       'Quattroporte', 'QuattroporteS', 'Coupe2dr', 'GranSport2dr',\n",
      "       'Spyder2dr', 'QuattroporteGTS', 'GhibliGhibli', 'GhibliSedan',\n",
      "       'GranTurismo2dr', 'GhibliS', 'GranTurismo', 'GranTurismoSport',\n",
      "       'LevanteAWD', 'GranTurismoMC', 'LevanteS'], dtype=object), 'Maybach': array(['574dr', '57S4dr', '57s4dr', '624dr'], dtype=object), 'Mazda': array(['CX-7FWD', 'CX-7AWD', 'RX-84dr', 'Mazda3i', 'Mazda34dr',\n",
      "       'Mazda6Sport', 'Mazda35dr', 'Mazda6Touring', 'Mazda64dr',\n",
      "       'Mazda3s', 'MAZDA35dr', 'Mazda3iSport', 'MAZDA34dr', 'TributeFWD',\n",
      "       'Mazda6s', 'MAZDA64dr', 'Mazda6Grand', 'Mazda6i', 'Tribute4WD',\n",
      "       'Mazda3', 'Tribute3.0L', 'Mazda3MAZDASPEED3', 'MAZDA65dr',\n",
      "       'CX-5Sport', 'Mazda2Sport', 'Mazda65dr', 'Mazda24dr',\n",
      "       'Mazda2Touring', 'CX-3FWD', 'CX-5Touring', 'Tribute2.3L',\n",
      "       'CX-52016.5', 'CX-5Grand', 'Tribute2.0L', 'CX-3AWD', 'Mazda5Sport',\n",
      "       'Mazda54dr', 'CX-5AWD', 'Mazda5Touring', 'Protege4dr',\n",
      "       'Mazda5Grand', 'MAZDA54dr', 'B-Series', 'MX5', 'CX-9Sport',\n",
      "       'MAZDA5Touring', 'MAZDA5Sport', 'CX-9FWD', 'CX-9AWD',\n",
      "       'Millenia4dr', 'CX-9Touring', 'Mazda55dr', 'Protege55dr', '6264dr',\n",
      "       'MPV4dr', 'MX-5', 'MAZDA5SPORT', 'CX-9Grand', 'MAZDA5Grand',\n",
      "       'CX-92WD', 'CX-9Signature'], dtype=object), 'McLaren': array(['MP4-12C2dr', '570S2dr', '570SCoupe', '650SSpider', '570GTCoupe',\n",
      "       '675LT2dr'], dtype=object), 'Mercedes-Benz': array(['C-ClassC280', 'C-Class4dr', 'C-ClassC240', 'C-ClassC230',\n",
      "       'C-ClassC250', 'C-ClassC300', 'C-ClassC320', 'GLK-ClassGLK350',\n",
      "       'CLA-ClassCLA250', 'GLK-Class4MATIC', 'C-ClassC350',\n",
      "       'CLK-Class2dr', 'CLK-ClassCLK500', 'C-Class2dr', 'C-ClassC',\n",
      "       'CLK-ClassCLK320', 'GLK-ClassRWD', 'CLK-ClassCLK350',\n",
      "       'CLK-ClassCLK430', 'C-ClassC32', 'CLK-ClassCLK55', 'C-ClassC55',\n",
      "       'C-Class', 'R-Class4dr', 'GLK-ClassGLK250', 'CLACLA250',\n",
      "       'E-ClassE320', 'Metris', 'B-ClassElectric', 'E-ClassE350',\n",
      "       'R-Class4WD', 'GLA-ClassGLA250', 'R-Class4MATIC', 'R-ClassR350',\n",
      "       'E-Class4dr', 'E-ClassE500', 'SLK-ClassSLK230', 'E-ClassE430',\n",
      "       'M-ClassML350', 'SLK-ClassSLK280', 'GLK-ClassGLK', 'M-ClassML500',\n",
      "       'M-Class4MATIC', 'SLK-Class2dr', 'R-ClassR500', 'SLK-ClassSLK320',\n",
      "       'SLK-ClassSLK350', 'M-Class4WD', 'GLAGLA250', 'M-ClassML320',\n",
      "       'S-ClassS430', 'M-ClassRWD', 'S-ClassS500', 'CLACLA', 'E-Class2dr',\n",
      "       'S-ClassS350', 'GLAGLA', 'Sprinter', 'S-ClassS600',\n",
      "       'SLK-ClassSLK250', 'C-ClassC400', 'E-ClassE400', 'E-ClassE550',\n",
      "       'SLKSLK300', 'SLK-ClassSLK32', 'CLS-ClassCLS500', 'E-ClassE300',\n",
      "       'E-ClassE55', 'S-Class4dr', 'GL-ClassGL450', 'C-ClassC63',\n",
      "       'CL-ClassCL500', 'SL-ClassSL500', 'GL-Class4WD', 'CLA-ClassCLA45',\n",
      "       'S-ClassS55', 'M-ClassML55', 'SLK-ClassSLK55', 'GL-Class4MATIC',\n",
      "       'CLS-Class4dr', 'C-ClassC350e', 'GLCGLC300', 'B-ClassB250e',\n",
      "       'M-ClassML430', 'CL-ClassCL600', 'S-ClassS420', 'GLA-ClassGLA45',\n",
      "       'S-ClassS320', 'CL-ClassCL55', 'E-ClassE', 'CL-ClassCL',\n",
      "       'M-ClassML', 'E-ClassE250', 'CLS-ClassCLS55', 'GLCGLC',\n",
      "       'S-ClassS550', 'GL-ClassGL350', 'SL-Class2dr', 'CL-ClassCL550',\n",
      "       'C-ClassC450', 'CL-Class2dr', 'SL-ClassSL320', 'M-ClassML250',\n",
      "       'SL-ClassSL600', 'SL-ClassSL55', 'CLS-ClassCLS550', 'M-ClassML550',\n",
      "       'GL-ClassGL550', 'S-ClassS65', 'GLEGLE350', 'M-ClassML400',\n",
      "       'S-ClassS400', 'C-ClassAMG', 'CL-ClassCL65', 'SLCSLC', 'SLKSLK350',\n",
      "       'GLEGLE', 'GLA-ClassGLA', 'GLEGLE400', 'GLGL450', 'GLAAMG',\n",
      "       'CLACLA45', 'M-ClassML63', 'GLEGLE300d', 'SL-ClassSL550',\n",
      "       'E-ClassE420', 'E-ClassE63', 'SL-ClassSL65', 'CLSCLS400',\n",
      "       'CLS-ClassCLS400', 'CLS-ClassCLS63', 'S-ClassS63', 'G-ClassG500',\n",
      "       'SLCAMG', 'CLAAMG', 'GLCAMG', 'GLSGLS', 'GLGL350', 'SL-ClassSL63',\n",
      "       'G-Class4WD', 'GLGL550', 'SL-ClassSL400', 'GLEGLE450', 'CLSCLS550',\n",
      "       'G-ClassG55', 'CL-ClassCL63', 'CLSCLS', 'GLEAMG', 'G-Class4MATIC',\n",
      "       'GL-ClassGL63', 'E-ClassAMG', 'G-ClassG550', 'GLEGLE63', 'SLSL400',\n",
      "       'CLSAMG', 'SLSL550', 'GLAMG', 'S-ClassS', 'SLSL', 'AMG',\n",
      "       'S-ClassAMG', 'G-ClassG63', 'GLSAMG', 'SLS', 'S-ClassMaybach',\n",
      "       'G-ClassG', 'G-ClassAMG', 'SLAMG', 'SLR'], dtype=object), 'Mercury': array(['MarinerFWD', 'Mariner4WD', 'Mariner4dr', 'Milan4dr',\n",
      "       'Monterey4dr', 'Mountaineer4dr', 'Montego4dr', 'MountaineerRWD',\n",
      "       'MountaineerAWD', 'Mountaineer2WD', 'Grand', 'Sable4dr',\n",
      "       'Cougar3dr', 'Villager', 'Cougar2dr', 'Villager5dr', 'Marauder4dr',\n",
      "       'Villager4dr', 'MountaineerLuxury', 'Tracer4dr'], dtype=object), 'MINI': array(['Cooper', 'ClubmanCooper', 'Hardtop', 'ConvertibleCooper',\n",
      "       'CountrymanCooper', 'ConvertibleJohn'], dtype=object), 'Mitsubishi': array(['Outlander', 'Mirage', 'LancerES', 'OutlanderES', 'LancerCVT',\n",
      "       'LancerLE', 'Lancer4dr', 'LancerMan', 'MirageES', 'LancerSE',\n",
      "       'MirageDE', 'EclipseAuto', 'LancerGT', 'OutlanderSEL', 'MirageGT',\n",
      "       'Lancer', 'Outlander2WD', 'OutlanderSE', 'Outlander4WD',\n",
      "       'Lancer5dr', 'Eclipse3dr', 'Eclipse2dr', 'MirageSE', 'LancerSEL',\n",
      "       'MirageCVT', 'Galant4dr', 'OutlanderGT', 'OutlanderAWD',\n",
      "       'i-MiEV4dr', 'Outlander4dr', 'i-MiEVES', 'GalantFE', 'EclipseGS',\n",
      "       'GalantES', 'LancerRalliart', 'Montero', 'RaiderDouble',\n",
      "       'LancerTC-SST', 'Raider2WD', 'EndeavorLS', 'Galant', 'EndeavorFWD',\n",
      "       'Raider4WD', 'EndeavorAWD', 'EndeavorSE', 'Endeavor4dr',\n",
      "       '3000GT2dr', 'Mirage4dr', 'Diamante4dr', 'EclipseGT', 'Montero4dr',\n",
      "       'GalantFe', 'LancerEvolution', 'Mirage2dr', 'Endeavor2004.5'],\n",
      "      dtype=object), 'Nissan': array(['Altima4dr', 'Altima2.5', 'AltimaSedan', 'SentraS', 'Rogue',\n",
      "       'Versa1.6', 'Versa', 'SentraSR', 'Sentra4dr', 'SentraFE+',\n",
      "       'VersaS', 'Altima2dr', 'SentraSV', 'Altima2017.5', 'Maxima3.5',\n",
      "       'Maxima4dr', 'SentraSL', 'AltimaCoupe', 'Altima3.5', 'VersaSL',\n",
      "       'VersaSV', 'MuranoAWD', 'Murano2WD', 'Versa5dr', 'MaximaS',\n",
      "       'SentraNISMO', 'Versa4dr', 'RogueAWD', 'RogueS', 'MuranoS',\n",
      "       'Sentra', 'MuranoSV', 'RogueSV', 'MuranoSL', 'MuranoLE',\n",
      "       'MaximaSV', 'LEAFS', 'Murano4dr', 'MaximaSR', 'MaximaSL', 'LEAFSL',\n",
      "       'LEAFSV', 'RogueSL', 'NV200', 'LEAF4dr', 'RogueFWD',\n",
      "       'MaximaPlatinum', 'Rogue2017.5', 'MuranoFWD', 'Titan2WD',\n",
      "       'Murano2017.5', '350Z2dr', 'Maxima', 'Murano', 'TitanSingle',\n",
      "       'TitanKing', 'PathfinderSV', 'Frontier', 'QuestSV',\n",
      "       'Pathfinder2WD', 'PathfinderS', 'QuestS', 'QuestPlatinum',\n",
      "       'Quest4dr', 'FrontierKing', 'PathfinderLE', 'Pathfinder4WD',\n",
      "       'JUKES', 'PathfinderSL', 'Titan4WD', 'Xterra2WD', 'FrontierCrew',\n",
      "       'TitanCrew', 'QuestSL', 'Xterra4dr', 'Rogue4DR', 'cubeS',\n",
      "       'Frontier2WD', 'JUKEFWD', 'Xterra4WD', 'ArmadaLE', 'JUKE5dr',\n",
      "       'JUKESL', 'PathfinderSE', 'Armada2WD', 'XterraX',\n",
      "       'PathfinderPlatinum', 'JUKESV', 'JUKENISMO', 'XterraS', 'TitanSE',\n",
      "       'cubeSL', 'FrontierS', 'PathfinderHybrid', 'NV', 'Pathfinder',\n",
      "       'cube5dr', 'XterraPRO-4X', 'PathfinderXE', 'NV200S', 'JUKEAWD',\n",
      "       'ArmadaSE', 'QuestLE', 'NV200SV', 'Quest3dr', 'NV1500',\n",
      "       'Armada4WD', 'Trucks', 'NVP3500', 'Frontier4WD', 'NVPV6',\n",
      "       'Pathfinder4dr', 'ArmadaSV', 'Titan', '370ZCoupe', 'NVPV8',\n",
      "       'ArmadaSL', 'ArmadaPlatinum', '370Z2dr', 'NVStandard', 'NV2500',\n",
      "       'NVHigh', '370ZRoadster', 'Armada2008', '370ZHeated/Cooled',\n",
      "       'Pathfinder99.5', 'NV3500', '200SX2dr', 'FrontierSE',\n",
      "       'ArmadaNISSAN', 'GT-R2dr', 'GT-RPremium', 'GT-RBlack', 'GT-RTrack',\n",
      "       'GT-RNISMO'], dtype=object), 'Oldsmobile': array(['Alero4dr', '884dr', 'LSS4dr', 'Bravada4dr', 'Alero2dr',\n",
      "       'Regency4dr', 'Cutlass', 'Aurora4dr', 'Silhouette4dr',\n",
      "       'Intrigue4dr', 'Cutlass4dr'], dtype=object), 'Plymouth': array(['Neon4dr', 'Breeze4dr', 'Voyager3', 'Voyager4', 'Prowler2dr'],\n",
      "      dtype=object), 'Pontiac': array(['Solstice2dr', 'Grand', 'TorrentFWD', 'TorrentTorrent', 'G35dr',\n",
      "       'G62dr', 'G64dr', 'TorrentAWD', 'G52dr', 'Torrent', 'Vibe4dr',\n",
      "       'Montana', 'G84dr', 'G5Base', 'Firebird2dr', 'GTO2dr',\n",
      "       'Sunfire2dr', 'Bonneville4dr', 'Firebird2000', 'Sunfire4dr',\n",
      "       'Montana4dr', 'Aztek4dr'], dtype=object), 'Porsche': array(['Cayman2dr', 'Cayenne4dr', 'Boxster2dr', 'CayenneAWD',\n",
      "       'CaymanCoupe', 'CayenneManual', 'CayenneTiptronic', '911',\n",
      "       'CayenneS', 'BoxsterRoadster', 'CayenneDiesel', 'CaymanRWD',\n",
      "       '9112dr', 'CaymanBlack', 'CayenneGTS', 'BoxsterRWD', 'Panamera4dr',\n",
      "       'BoxsterBlack', 'MacanAWD', 'CaymanS', 'MacanS',\n",
      "       'PanameraPlatinum', 'CayenneTurbo', 'Panamerabase', 'PanameraRWD',\n",
      "       '718', 'CayennePlatinum', 'Panamera4', 'PanameraS', 'MacanTurbo',\n",
      "       'Panamera4S', 'BoxsterS', 'PanameraGTS', 'CaymanGTS', '911Carrera',\n",
      "       'BoxsterGTS', 'PanameraEdition', 'MacanGTS', 'PanameraTurbo',\n",
      "       '911Cabriolet', '911Coupe', 'CaymanGT4', '911Targa',\n",
      "       'BoxsterSpyder', '911Turbo', '911GT3'], dtype=object), 'Ram': array(['1500Express,', '1500Tradesman', '1500Tradesman,', '15002WD',\n",
      "       '1500HFE,', '1500SLT,', 'Dakota2WD', '1500HFE', '55004WD',\n",
      "       '1500Express', '1500SLT', 'ProMaster3500', '15004WD', '1500Lone',\n",
      "       '1500Big', 'ProMaster', '1500Outdoorsman,', 'Cargo',\n",
      "       '1500Laramie,', '1500Sport,', 'Dakota4WD', '25002WD', '1500',\n",
      "       '2500Tradesman,', '1500Laramie', '25004WD', '1500R/T,',\n",
      "       '1500Night', '45002WD', '1500SSV,', '1500Sport', '1500NEW', '3500',\n",
      "       '1500SSV', '1500RAM', '1500Longhorn,', '2500SLT,', '35002WD',\n",
      "       '5500', '35004WD', '1500Rebel', '3500Tradesman,', '1500Rebel,',\n",
      "       '55002WD', '45004WD', '2500Outdoorsman,', '2500Big', '1500Limited',\n",
      "       '1500Longhorn', '2500Lone', '2500Tradesman', '3500SLT,',\n",
      "       '2500Laramie,', '2500Power', '3500Tradesman', '2500Longhorn,',\n",
      "       '3500Big', '3500Lone', '2500Laramie', '3500SLT', '3500Laramie,',\n",
      "       '4500', '3500Longhorn,', '3500Last', '3500Laramie', '2500Longhorn',\n",
      "       '3500Longhorn', '2500SLT', '3500DIESEL!'], dtype=object), 'Rolls-Royce': array(['Phantom4dr', 'Ghost4dr', 'GhostSedan', 'Phantom', 'WraithCoupe',\n",
      "       'PhantomSedan', 'Dawn2dr', 'DawnConvertible'], dtype=object), 'Saab': array(['9-34dr', '9-32dr', '9-3Aero', '9-32.0T', '3-Sep', '9-35dr',\n",
      "       '9-54dr', '9-52.3t', '9-2X4dr', '9-5Base', '9-7XAWD', '9-52.3T',\n",
      "       '9-7X4dr', '9-4XAWD'], dtype=object), 'Saturn': array(['Sky2dr', 'VUEAWD', 'Aura4dr', 'Ion4dr', 'VUEFWD', 'VUE4dr',\n",
      "       'IonION', 'VueFWD', 'Astra3dr', 'VUEVUE', 'Astra5dr', 'Relay4dr',\n",
      "       'LSLS1', 'OutlookFWD', 'VueAWD', 'LSL-200', 'VUE', 'OutlookAWD',\n",
      "       'SLSL2', 'LSL-300', 'SC', 'SWSW2', 'L-SeriesL300', 'SLSL1',\n",
      "       'LWLW-200', 'LWLW-300', 'LSL-100', 'LSLS2', 'LWLW2', 'SLSL',\n",
      "       'SWSW1', 'LWLW1'], dtype=object), 'Scion': array(['iAAutomatic', 'tCAutomatic', 'iAManual', 'iA4dr', 'tCManual',\n",
      "       'tC2dr', 'iMAutomatic', 'iMManual', 'xDAutomatic', 'xD', 'xD5dr',\n",
      "       'xDManual', 'tC3dr', 'iM5dr', 'tC', 'FR-S2dr', 'FR-SManual',\n",
      "       'xA4dr', 'FR-SAutomatic', 'iQHatchback', 'xBAutomatic', 'iQbase',\n",
      "       'iQ10th', 'xBManual', 'iQ3dr', 'xB5dr', 'xB686', 'xBBase'],\n",
      "      dtype=object), 'smart': array(['fortwo', 'fortwopure', 'fortwoCoupe', 'fortwopassion',\n",
      "       'fortwoPrime', 'fortwoPassion', 'fortwo2dr', 'fortwoPure',\n",
      "       'fortwoprime', 'fortwoCabriolet', 'fortwoProxy'], dtype=object), 'Subaru': array(['XV', 'Impreza', 'Forester2.5i', 'BRZLimited', 'Legacy2.5i', 'B9',\n",
      "       'Legacy4dr', 'Impreza4-door', 'BRZPremium', 'Impreza5-door',\n",
      "       'ImprezaSport', 'CrosstrekPremium', 'ImprezaPremium',\n",
      "       'Crosstrek2.0i', 'CrosstrekLimited', 'Forester2.5X', 'Legacy3.6R',\n",
      "       'Legacy', 'Forester4dr', 'CrosstrekManual', 'ForesterAWD',\n",
      "       'BRZSeries.Blue', 'Crosstrek', 'Outback2.5i', 'Outback4dr',\n",
      "       'Forester2.0XT', 'Forester2.5XT', 'BRZSeries.HyperBlue',\n",
      "       'Tribeca4dr', 'ImprezaLimited', 'BRZSeries.Yellow', 'Tribeca3.6R',\n",
      "       'WRXManual', 'Outback2014', 'Outback2.5I', 'Outback3.6R',\n",
      "       'Forester', 'Outback', 'WRXCVT', 'WRXPremium', 'Baja4dr',\n",
      "       'WRXLimited', 'WRXSTI', 'WRX'], dtype=object), 'Suzuki': array(['Reno4dr', 'Forenza4dr', 'SX44dr', 'SX4Sedan', 'Kizashi4dr',\n",
      "       'SX45dr', 'Verona4dr', 'XL-7FWD', 'XL-7AWD', 'SX4Hatchback',\n",
      "       'Equator2WD', 'KizashiCVT', 'Aerio4dr', 'XL-74dr', 'Grand',\n",
      "       'Equator4WD', 'Vitara2dr', 'Sidekick4dr', 'Vitara4dr', 'Esteem4dr',\n",
      "       'Sidekick2dr'], dtype=object), 'Tesla': array(['Model', 'Roadster2dr', 'Roadster'], dtype=object), 'Toyota': array(['Corolla4dr', 'CorollaLE', 'CorollaS', 'Camry', 'CorollaL',\n",
      "       'CorollaSE', 'CamrySE', 'Yaris', 'CorollaECO', 'Prius', 'CamryLE',\n",
      "       'Camry4dr', 'CamryL', 'CamryXLE', 'CamryXSE', 'CorollaXLE',\n",
      "       'Corolla', 'Camry2014.5', 'Yaris3-Door', 'CorollaXSE',\n",
      "       'Yaris5-Door', 'CamryHybrid', 'Matrix5dr', 'Yaris5dr', 'Yaris3dr',\n",
      "       'YarisL', 'MatrixS', 'MatrixL', 'Yaris4dr', 'C-HRXLE', 'RAV44X4',\n",
      "       'YarisLE', 'RAV4FWD', 'PriusThree', 'Highlander', 'PriusTwo',\n",
      "       'PriusFour', 'RAV44X2', 'Prius5dr', 'RAV44WD', 'RAV44dr',\n",
      "       'PriusFive', 'RAV4AWD', 'RAV4', 'YarisBase', 'RAV4LE', 'RAV42WD',\n",
      "       'MR2', 'Avalon', 'YarisFleet', 'PriusOne', 'Celica3dr', 'SiennaL,',\n",
      "       '86Manual', 'Yaris4DR,', 'Yaris4DR', 'RAV4XLE', 'Tundra2WD',\n",
      "       'PriusPersona', 'YarisSedan', 'Avalon4dr', 'TacomaRegular',\n",
      "       '86Automatic', 'Tacoma2WD', 'AvalonXLE', 'RAV4XLE/4WD/W/NAV/REAR',\n",
      "       'RAV4SE', 'AvalonTouring', 'CorollaXRS', 'AvalonLimited',\n",
      "       '4Runner4dr', 'VenzaLE,', 'SiennaLE,', 'RAV4Sport', 'Tacoma4WD',\n",
      "       'Highlander4dr', 'PriusHATCACK', 'Highlander2WD', 'Prius4dr',\n",
      "       'RAV4Limited', 'VenzaLE', 'Venza4dr', 'TacomaAccess', 'Sienna5dr',\n",
      "       'Echo2dr', 'RAV4base', 'SiennaBase', 'AvalonPremium',\n",
      "       'HighlanderFWD', 'VenzaXLE', '86SE', 'Tundra', 'Highlander4WD',\n",
      "       'Highlander4X2', 'Highlander4X4', 'Highlander4x2', 'VenzaXLE,',\n",
      "       'PriusIII', 'Tundra4WD', 'RAV4Platinum', 'HighlanderLimited',\n",
      "       'SiennaLE', 'TacomaDouble', 'SiennaL', 'SiennaXLE',\n",
      "       'RAV4V6,Sport,JBL', 'SiennaSE,', 'SiennaCE', 'Echo4dr',\n",
      "       'SiennaXLE,', 'HighlanderAWD', 'VenzaLimited,', 'Tercel2dr',\n",
      "       'TacomaPreRunner', 'HighlanderSport', 'Sequoia4dr',\n",
      "       'SiennaLimited,', '4Runner4WD', 'HighlanderLE', 'SiennaLE/DVD',\n",
      "       'Sienna', '4Runner2WD', 'VenzaLimited', 'Sequoia2WD',\n",
      "       'TacomaPrerunner', 'FJ', 'SiennaLimited', 'HighlanderHybrid',\n",
      "       'HighlanderHARD', '4RunnerRWD', 'SequoiaRWD', 'Tacoma4D',\n",
      "       'SiennaSE', 'AvalonHybrid', 'Sequoia4WD', '4Runner4x2',\n",
      "       'TundraSR5', 'SiennaXLE,CERTIFIED,', 'Sienna7-Pass', 'T100XtraCab',\n",
      "       '4Runner4x4', 'TacomaBase', 'Sequoia4X2', '4RunnerSR5', 'Land',\n",
      "       'Celica2dr', 'HighlanderXLE', 'HighlanderSE', 'Sequoia4X4',\n",
      "       'SequoiaSR5', 'TacomaSR5', '4Runner', 'MiraiSedan', 'Previa3dr',\n",
      "       'TacomaTRD', 'Tacoma', 'RAV42dr', 'SequoiaLimited', 'Supra3dr',\n",
      "       'SequoiaPlatinum'], dtype=object), 'Volkswagen': array(['Passat', 'Golf', 'Passat4dr', 'Jetta', 'Passat1.8T', 'CC4dr',\n",
      "       'Passat2.5L', 'Jetta1.4T', 'PassatSE', 'PassatWolfsburg',\n",
      "       'PassatS', 'CCSport', 'Golf2dr', 'CCLuxury', 'CCLux', 'Golf2.5L',\n",
      "       'Passat2.5', 'CCVR6', 'CCR-Line', 'Golf4-Door', 'PassatV6',\n",
      "       'CC2.0T', 'CCSPORT', 'CCDSG', 'New', 'GolfS', 'Eos2dr', 'TiguanS',\n",
      "       'PassatCERTIFIED', 'Routan4dr', 'Golf2-Door', 'Tiguan2WD',\n",
      "       'TiguanSEL', 'PassatTDI', 'e-GolfSE', 'CCExecutive',\n",
      "       'e-GolfLimited', 'e-GolfSEL', 'TiguanSE', 'Passat3.6L', 'GLIBase',\n",
      "       'GLI4dr', 'TiguanAWD', 'Golf4dr', 'TiguanFWD', 'Tiguan4MOTION',\n",
      "       'Golf2013', 'GolfWolfsburg', 'Touareg4dr', 'Jetta1.8T',\n",
      "       'Tiguan4WD', 'Passat*Clean', 'TiguanWolfsburg', 'GLIAutobahn',\n",
      "       'Tiguan/', 'GolfSE', 'TiguanR-Line', 'JettaGLI', 'EosExecutive',\n",
      "       'TiguanSport', 'EosSport', 'RoutanSE', 'Eos2.0T', 'RoutanSEL',\n",
      "       'EosKomfort', 'EosLux', 'Rabbit2dr', 'Beetle', 'GolfTDI',\n",
      "       'TouaregV6', 'Tiguan', 'EosFinal', 'GTI2dr', 'GTI4dr', 'Rabbit4dr',\n",
      "       'GTI4-Door', 'Touareg', 'Jetta4dr', 'Beetle2dr', 'GTIWolfsburg',\n",
      "       \"GTIDriver's\", 'GTI2-Door', 'GTI4-Door,', 'BeetleS', 'Cabrio2dr',\n",
      "       'GTIBase', 'R322dr', 'Beetle2.5L', 'BeetleClassic', 'GTIGLX',\n",
      "       'BeetleSE', 'Beetle1.8T', 'EuroVan3dr', 'Phaeton4dr',\n",
      "       'TouaregHybrid', 'Beetle#PinkBeetle', 'BeetleSEL', 'TouaregTDI',\n",
      "       'RoutanS', 'Atlas3.6L', 'CabrioCONVERTIBLE', 'TouaregX', 'GolfSEL'],\n",
      "      dtype=object), 'Volvo': array(['S60T5', 'S604dr', 'S60FWD', 'S602.5T', 'S602015.5', 'S804dr',\n",
      "       'V502.4L', 'V504dr', 'S602.5L', 'S803.2L', 'S404dr', 'S402.5L',\n",
      "       'XC90FWD', 'V502.5L', 'S402.4L', 'S602.4L', 'XC704dr', 'XC90AWD',\n",
      "       'S402004', 'XC904dr', 'S60Sedan', 'XC902.5L', 'C702dr', 'S802.5T',\n",
      "       'S60AWD', 'S803.0L', 'S80T6', 'S602.4', 'XC60FWD', 'S60T6', 'S40A',\n",
      "       'S80T5', 'S802015.5', 'S60', 'S802.9', 'S402004.5', 'S602.4T',\n",
      "       'XC904.4L', 'XC702.5L', 'XC603.2L', 'C70T5', 'S802.5L', 'XC60AWD',\n",
      "       'C70', 'C702.5L', 'XC90T6', 'XC90LEATHER', 'XC90', 'XC70FWD',\n",
      "       'V40A', 'XC70AWD', 'XC602015.5', 'C70HT', 'V405dr', 'C70LT',\n",
      "       'XC604dr', 'XC703.2L', 'V60T5', 'XC60T6', 'V602015.5', 'XC60T5',\n",
      "       'XC603.2', 'XC90R-Design', 'XC903.2', 'C302dr', 'XC60', 'XC903.2L',\n",
      "       'XC70T5', 'XC70T6', 'V70XC', 'V60', 'C70Inscription', 'XC703.0T',\n",
      "       'XC702015.5', 'V702.4', 'V702.4L', 'V704dr', 'V702.5L', 'C30T5',\n",
      "       'C30R-Design', 'C302DR', 'XC603.0L', '9605dr', 'V702.4T', 'V705dr',\n",
      "       'V70XC70', 'XC90Premier', 'V905dr', 'V70A', 'C70Convertible',\n",
      "       'S70M', 'XC70Platinum', 'S70A', 'V70T5', 'S70AWD', 'S70GLT',\n",
      "       'S90T5', 'XC90T5', 'XC904DR', 'S704dr', 'V60T6', 'V70R', 'XC703.2',\n",
      "       'XC902.5T', 'S90T6', 'V90', 'XC90T8', 'V60Polestar'], dtype=object)}\n"
     ]
    }
   ],
   "source": [
    "models_wrt_makers = {}\n",
    "for i in x:\n",
    "    models = cars_df[cars_df['Make'] == i]['Model'].unique()\n",
    "    models_wrt_makers[i] = models\n",
    "\n",
    "print(models_wrt_makers)"
   ]
  },
  {
   "cell_type": "code",
   "execution_count": 48,
   "id": "27b98912-0575-4db5-b7ec-793e1c2a24eb",
   "metadata": {},
   "outputs": [],
   "source": [
    "data_to_send = {'pipe':pipe, 'makers_&_models':models_wrt_makers}"
   ]
  },
  {
   "cell_type": "code",
   "execution_count": 49,
   "id": "60739758-a713-403a-b5d7-bcecf3a31d27",
   "metadata": {},
   "outputs": [
    {
     "data": {
      "text/plain": [
       "['data.joblib']"
      ]
     },
     "execution_count": 49,
     "metadata": {},
     "output_type": "execute_result"
    }
   ],
   "source": [
    "joblib.dump(data_to_send, 'data.joblib')"
   ]
  },
  {
   "cell_type": "code",
   "execution_count": null,
   "id": "278897ee-e89c-4d16-94c4-ad9b75fbab6a",
   "metadata": {},
   "outputs": [],
   "source": []
  }
 ],
 "metadata": {
  "kernelspec": {
   "display_name": "Python 3 (ipykernel)",
   "language": "python",
   "name": "python3"
  },
  "language_info": {
   "codemirror_mode": {
    "name": "ipython",
    "version": 3
   },
   "file_extension": ".py",
   "mimetype": "text/x-python",
   "name": "python",
   "nbconvert_exporter": "python",
   "pygments_lexer": "ipython3",
   "version": "3.11.7"
  }
 },
 "nbformat": 4,
 "nbformat_minor": 5
}
