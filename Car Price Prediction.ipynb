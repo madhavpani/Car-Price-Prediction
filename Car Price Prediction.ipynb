{
 "cells": [
  {
   "cell_type": "code",
   "execution_count": 139,
   "id": "7121d5e5-f901-4903-b9eb-59cfe413b68d",
   "metadata": {},
   "outputs": [],
   "source": [
    "# import the required libraries\n",
    "import pandas as pd\n",
    "import numpy as np\n",
    "import matplotlib.pyplot as plt\n",
    "import seaborn as sns"
   ]
  },
  {
   "cell_type": "code",
   "execution_count": 140,
   "id": "7c69dbf3-96e4-46e0-a0df-f8ca93b18b65",
   "metadata": {},
   "outputs": [],
   "source": [
    "# lets read the csv file\n",
    "cars = pd.read_csv('true_car_listings.csv')"
   ]
  },
  {
   "cell_type": "code",
   "execution_count": 141,
   "id": "df7980cc-67d2-456c-ad2a-80ae274b64ea",
   "metadata": {},
   "outputs": [
    {
     "data": {
      "text/html": [
       "<div>\n",
       "<style scoped>\n",
       "    .dataframe tbody tr th:only-of-type {\n",
       "        vertical-align: middle;\n",
       "    }\n",
       "\n",
       "    .dataframe tbody tr th {\n",
       "        vertical-align: top;\n",
       "    }\n",
       "\n",
       "    .dataframe thead th {\n",
       "        text-align: right;\n",
       "    }\n",
       "</style>\n",
       "<table border=\"1\" class=\"dataframe\">\n",
       "  <thead>\n",
       "    <tr style=\"text-align: right;\">\n",
       "      <th></th>\n",
       "      <th>Price</th>\n",
       "      <th>Year</th>\n",
       "      <th>Mileage</th>\n",
       "      <th>City</th>\n",
       "      <th>State</th>\n",
       "      <th>Vin</th>\n",
       "      <th>Make</th>\n",
       "      <th>Model</th>\n",
       "    </tr>\n",
       "  </thead>\n",
       "  <tbody>\n",
       "    <tr>\n",
       "      <th>628693</th>\n",
       "      <td>10924</td>\n",
       "      <td>2016</td>\n",
       "      <td>38537</td>\n",
       "      <td>Victorville</td>\n",
       "      <td>CA</td>\n",
       "      <td>JA32U2FU2GU005270</td>\n",
       "      <td>Mitsubishi</td>\n",
       "      <td>LancerES</td>\n",
       "    </tr>\n",
       "    <tr>\n",
       "      <th>207623</th>\n",
       "      <td>21731</td>\n",
       "      <td>2016</td>\n",
       "      <td>40738</td>\n",
       "      <td>Hollywood</td>\n",
       "      <td>FL</td>\n",
       "      <td>2C3CDXCT0GH114803</td>\n",
       "      <td>Dodge</td>\n",
       "      <td>ChargerRT</td>\n",
       "    </tr>\n",
       "    <tr>\n",
       "      <th>777192</th>\n",
       "      <td>22587</td>\n",
       "      <td>2016</td>\n",
       "      <td>18359</td>\n",
       "      <td>Tulsa</td>\n",
       "      <td>OK</td>\n",
       "      <td>2T3RFREV1GW433508</td>\n",
       "      <td>Toyota</td>\n",
       "      <td>RAV4AWD</td>\n",
       "    </tr>\n",
       "    <tr>\n",
       "      <th>196793</th>\n",
       "      <td>16985</td>\n",
       "      <td>2015</td>\n",
       "      <td>50915</td>\n",
       "      <td>Atlanta</td>\n",
       "      <td>GA</td>\n",
       "      <td>2C4RC1BG8FR544565</td>\n",
       "      <td>Chrysler</td>\n",
       "      <td>Town</td>\n",
       "    </tr>\n",
       "    <tr>\n",
       "      <th>548309</th>\n",
       "      <td>25987</td>\n",
       "      <td>2017</td>\n",
       "      <td>13427</td>\n",
       "      <td>North Kansas City</td>\n",
       "      <td>MO</td>\n",
       "      <td>KNDMB5C10H6238002</td>\n",
       "      <td>Kia</td>\n",
       "      <td>SedonaLX</td>\n",
       "    </tr>\n",
       "  </tbody>\n",
       "</table>\n",
       "</div>"
      ],
      "text/plain": [
       "        Price  Year  Mileage               City State                Vin  \\\n",
       "628693  10924  2016    38537        Victorville    CA  JA32U2FU2GU005270   \n",
       "207623  21731  2016    40738          Hollywood    FL  2C3CDXCT0GH114803   \n",
       "777192  22587  2016    18359              Tulsa    OK  2T3RFREV1GW433508   \n",
       "196793  16985  2015    50915            Atlanta    GA  2C4RC1BG8FR544565   \n",
       "548309  25987  2017    13427  North Kansas City    MO  KNDMB5C10H6238002   \n",
       "\n",
       "              Make      Model  \n",
       "628693  Mitsubishi   LancerES  \n",
       "207623       Dodge  ChargerRT  \n",
       "777192      Toyota    RAV4AWD  \n",
       "196793    Chrysler       Town  \n",
       "548309         Kia   SedonaLX  "
      ]
     },
     "execution_count": 141,
     "metadata": {},
     "output_type": "execute_result"
    }
   ],
   "source": [
    "# lets see the random 5 rows\n",
    "cars.sample(5)"
   ]
  },
  {
   "cell_type": "code",
   "execution_count": 142,
   "id": "cb4a229c-48f9-49c0-9f88-5bc91ec0f3d5",
   "metadata": {},
   "outputs": [
    {
     "name": "stdout",
     "output_type": "stream",
     "text": [
      "<class 'pandas.core.frame.DataFrame'>\n",
      "RangeIndex: 852122 entries, 0 to 852121\n",
      "Data columns (total 8 columns):\n",
      " #   Column   Non-Null Count   Dtype \n",
      "---  ------   --------------   ----- \n",
      " 0   Price    852122 non-null  int64 \n",
      " 1   Year     852122 non-null  int64 \n",
      " 2   Mileage  852122 non-null  int64 \n",
      " 3   City     852122 non-null  object\n",
      " 4   State    852122 non-null  object\n",
      " 5   Vin      852122 non-null  object\n",
      " 6   Make     852122 non-null  object\n",
      " 7   Model    852122 non-null  object\n",
      "dtypes: int64(3), object(5)\n",
      "memory usage: 52.0+ MB\n"
     ]
    }
   ],
   "source": [
    "# lets get the info about the rows and columns\n",
    "cars.info()\n",
    "\n",
    "# Columns\n",
    "# Price - Target Variable.\n",
    "# Year - Year of the car purchased.\n",
    "# Mileage - The no.of kms drove by the car.\n",
    "# City - In which city it was sold.\n",
    "# State - In which state it was sold.\n",
    "# Vin - a unique number for a car.\n",
    "# Make - Manufacturer of the car.\n",
    "# Model - The model(name) of the car."
   ]
  },
  {
   "cell_type": "code",
   "execution_count": 143,
   "id": "6fac356e-7042-449f-9b04-04b5e4a3ee58",
   "metadata": {},
   "outputs": [
    {
     "data": {
      "text/plain": [
       "array([2014, 2013, 2016, 2012, 2009, 2015, 2010, 2011, 2007, 2006, 2008,\n",
       "       2004, 2017, 2005, 2003, 2002, 1999, 2001, 2000, 1998, 2018, 1997],\n",
       "      dtype=int64)"
      ]
     },
     "execution_count": 143,
     "metadata": {},
     "output_type": "execute_result"
    }
   ],
   "source": [
    "# lets check the unique values in year column\n",
    "cars['Year'].unique()\n",
    "\n",
    "# there are total 22 unique years"
   ]
  },
  {
   "cell_type": "code",
   "execution_count": 144,
   "id": "46a06417-d39c-4c58-aa9c-d7028dc4bdbc",
   "metadata": {},
   "outputs": [
    {
     "data": {
      "text/plain": [
       "City\n",
       "Houston          12703\n",
       "San Antonio       8078\n",
       "Louisville        5872\n",
       "Jacksonville      5675\n",
       "Austin            5297\n",
       "                 ...  \n",
       "Pleasant Hill        4\n",
       "Port Jervis          4\n",
       "Los Banos            4\n",
       "Pen Argyl            4\n",
       "Royston              2\n",
       "Name: count, Length: 2553, dtype: int64"
      ]
     },
     "execution_count": 144,
     "metadata": {},
     "output_type": "execute_result"
    }
   ],
   "source": [
    "# lets check the unique values in city column\n",
    "cars['City'].value_counts()"
   ]
  },
  {
   "cell_type": "code",
   "execution_count": 145,
   "id": "669ca0d9-8df0-4cf4-858d-e16fe1338661",
   "metadata": {},
   "outputs": [],
   "source": [
    "# lets transform the city column\n",
    "cars['City'] = cars['City'].apply(lambda x: x.replace(\" \", '').lower())"
   ]
  },
  {
   "cell_type": "code",
   "execution_count": 146,
   "id": "aad1f989-a9e5-4309-bc8d-a53ea0c94bf1",
   "metadata": {},
   "outputs": [
    {
     "data": {
      "text/plain": [
       "array([' TX', ' NY', ' CO', ' UT', ' FL', ' CT', ' ID', ' ND', ' CA',\n",
       "       ' NJ', ' OH', ' VA', ' IN', ' AZ', ' OR', ' KS', ' NE', ' MA',\n",
       "       ' MD', ' GA', ' MN', ' HI', ' LA', ' NM', ' IL', ' AL', ' PA',\n",
       "       ' SC', ' NC', ' WA', ' WI', ' OK', ' KY', ' MS', ' MO', ' ME',\n",
       "       ' AR', ' MI', ' NV', ' TN', ' Fl', ' NH', ' DE', ' WV', ' Az',\n",
       "       ' VT', ' SD', ' IA', ' RI', ' ga', ' Oh', ' MT', ' DC', ' AK',\n",
       "       ' Va', ' WY', ' Md', ' Ca', ' Ga'], dtype=object)"
      ]
     },
     "execution_count": 146,
     "metadata": {},
     "output_type": "execute_result"
    }
   ],
   "source": [
    "# lets check the unique values of state column\n",
    "cars['State'].unique()"
   ]
  },
  {
   "cell_type": "code",
   "execution_count": 147,
   "id": "078a25b4-c808-4f05-8b3e-43897bf23b6a",
   "metadata": {},
   "outputs": [],
   "source": [
    "# lets transform the state column\n",
    "cars['State'] = cars['State'].apply(lambda x: x.lower())\n",
    "cars.drop(columns=['State', 'City', 'Vin'], inplace= True)"
   ]
  },
  {
   "cell_type": "code",
   "execution_count": 148,
   "id": "bf467b33-7eca-4be1-ac6a-9e7f4217ee5d",
   "metadata": {},
   "outputs": [
    {
     "data": {
      "text/plain": [
       "Model\n",
       "Silverado          24932\n",
       "Grand              17321\n",
       "Accord             14502\n",
       "F-1504WD           14177\n",
       "Altima2.5          11288\n",
       "                   ...  \n",
       "EdgeLTD                1\n",
       "ExpeditionEddie        1\n",
       "EscortSE               1\n",
       "Ranger                 1\n",
       "V60Polestar            1\n",
       "Name: count, Length: 2736, dtype: int64"
      ]
     },
     "execution_count": 148,
     "metadata": {},
     "output_type": "execute_result"
    }
   ],
   "source": [
    "# lets check the models\n",
    "cars['Model'].value_counts()"
   ]
  },
  {
   "cell_type": "markdown",
   "id": "b4b26b83-693b-43f7-8354-3420f4a80308",
   "metadata": {},
   "source": [
    "## Dataset Preparation "
   ]
  },
  {
   "cell_type": "code",
   "execution_count": 149,
   "id": "baf97aae-1e53-4e52-8daa-170f0bc4a251",
   "metadata": {},
   "outputs": [
    {
     "data": {
      "text/html": [
       "<div>\n",
       "<style scoped>\n",
       "    .dataframe tbody tr th:only-of-type {\n",
       "        vertical-align: middle;\n",
       "    }\n",
       "\n",
       "    .dataframe tbody tr th {\n",
       "        vertical-align: top;\n",
       "    }\n",
       "\n",
       "    .dataframe thead th {\n",
       "        text-align: right;\n",
       "    }\n",
       "</style>\n",
       "<table border=\"1\" class=\"dataframe\">\n",
       "  <thead>\n",
       "    <tr style=\"text-align: right;\">\n",
       "      <th></th>\n",
       "      <th>Price</th>\n",
       "      <th>Year</th>\n",
       "      <th>Mileage</th>\n",
       "    </tr>\n",
       "  </thead>\n",
       "  <tbody>\n",
       "    <tr>\n",
       "      <th>count</th>\n",
       "      <td>852122.000000</td>\n",
       "      <td>852122.000000</td>\n",
       "      <td>8.521220e+05</td>\n",
       "    </tr>\n",
       "    <tr>\n",
       "      <th>mean</th>\n",
       "      <td>21464.100210</td>\n",
       "      <td>2013.289145</td>\n",
       "      <td>5.250779e+04</td>\n",
       "    </tr>\n",
       "    <tr>\n",
       "      <th>std</th>\n",
       "      <td>13596.202241</td>\n",
       "      <td>3.414987</td>\n",
       "      <td>4.198896e+04</td>\n",
       "    </tr>\n",
       "    <tr>\n",
       "      <th>min</th>\n",
       "      <td>1500.000000</td>\n",
       "      <td>1997.000000</td>\n",
       "      <td>5.000000e+00</td>\n",
       "    </tr>\n",
       "    <tr>\n",
       "      <th>25%</th>\n",
       "      <td>13000.000000</td>\n",
       "      <td>2012.000000</td>\n",
       "      <td>2.383600e+04</td>\n",
       "    </tr>\n",
       "    <tr>\n",
       "      <th>50%</th>\n",
       "      <td>18500.000000</td>\n",
       "      <td>2014.000000</td>\n",
       "      <td>4.025600e+04</td>\n",
       "    </tr>\n",
       "    <tr>\n",
       "      <th>75%</th>\n",
       "      <td>26995.000000</td>\n",
       "      <td>2016.000000</td>\n",
       "      <td>7.218600e+04</td>\n",
       "    </tr>\n",
       "    <tr>\n",
       "      <th>max</th>\n",
       "      <td>499500.000000</td>\n",
       "      <td>2018.000000</td>\n",
       "      <td>2.856196e+06</td>\n",
       "    </tr>\n",
       "  </tbody>\n",
       "</table>\n",
       "</div>"
      ],
      "text/plain": [
       "               Price           Year       Mileage\n",
       "count  852122.000000  852122.000000  8.521220e+05\n",
       "mean    21464.100210    2013.289145  5.250779e+04\n",
       "std     13596.202241       3.414987  4.198896e+04\n",
       "min      1500.000000    1997.000000  5.000000e+00\n",
       "25%     13000.000000    2012.000000  2.383600e+04\n",
       "50%     18500.000000    2014.000000  4.025600e+04\n",
       "75%     26995.000000    2016.000000  7.218600e+04\n",
       "max    499500.000000    2018.000000  2.856196e+06"
      ]
     },
     "execution_count": 149,
     "metadata": {},
     "output_type": "execute_result"
    }
   ],
   "source": [
    "# lets see the description of numeric columns\n",
    "cars.describe()"
   ]
  },
  {
   "cell_type": "code",
   "execution_count": 150,
   "id": "99057770-c0e5-463c-ac37-9f8e41f31ac6",
   "metadata": {},
   "outputs": [
    {
     "data": {
      "image/png": "[encoded data removed]",
      "text/plain": [
       "<Figure size 1200x600 with 1 Axes>"
      ]
     },
     "metadata": {},
     "output_type": "display_data"
    }
   ],
   "source": [
    "plt.figure(figsize=(12, 6))\n",
    "sns.barplot(x = 'Year', y = 'Price', data = cars)\n",
    "plt.show()"
   ]
  },
  {
   "cell_type": "code",
   "execution_count": 151,
   "id": "5c1a7711-8ae8-4432-b25e-ee9669e0b844",
   "metadata": {},
   "outputs": [
    {
     "data": {
      "image/png": "[encoded data removed]",
      "text/plain": [
       "<Figure size 1200x600 with 1 Axes>"
      ]
     },
     "metadata": {},
     "output_type": "display_data"
    }
   ],
   "source": [
    "plt.figure(figsize=(12, 6))\n",
    "sns.countplot(x = 'Make', data = cars)\n",
    "plt.xticks(rotation=90)\n",
    "plt.show()"
   ]
  },
  {
   "cell_type": "code",
   "execution_count": 152,
   "id": "bdde1d66-7ec3-4495-8106-06bbe75a1fc9",
   "metadata": {},
   "outputs": [],
   "source": [
    "# lets import some required classes for data transformation\n",
    "from sklearn.compose import ColumnTransformer\n",
    "from sklearn.preprocessing import OneHotEncoder, MinMaxScaler, OrdinalEncoder\n",
    "from sklearn.pipeline import Pipeline, make_pipeline\n",
    "from sklearn.model_selection import train_test_split"
   ]
  },
  {
   "cell_type": "code",
   "execution_count": 153,
   "id": "72676a91-0bd9-4d04-a465-f5a9686db7b5",
   "metadata": {},
   "outputs": [
    {
     "data": {
      "text/html": [
       "<style>#sk-container-id-7 {color: black;background-color: white;}#sk-container-id-7 pre{padding: 0;}#sk-container-id-7 div.sk-toggleable {background-color: white;}#sk-container-id-7 label.sk-toggleable__label {cursor: pointer;display: block;width: 100%;margin-bottom: 0;padding: 0.3em;box-sizing: border-box;text-align: center;}#sk-container-id-7 label.sk-toggleable__label-arrow:before {content: \"▸\";float: left;margin-right: 0.25em;color: #696969;}#sk-container-id-7 label.sk-toggleable__label-arrow:hover:before {color: black;}#sk-container-id-7 div.sk-estimator:hover label.sk-toggleable__label-arrow:before {color: black;}#sk-container-id-7 div.sk-toggleable__content {max-height: 0;max-width: 0;overflow: hidden;text-align: left;background-color: #f0f8ff;}#sk-container-id-7 div.sk-toggleable__content pre {margin: 0.2em;color: black;border-radius: 0.25em;background-color: #f0f8ff;}#sk-container-id-7 input.sk-toggleable__control:checked~div.sk-toggleable__content {max-height: 200px;max-width: 100%;overflow: auto;}#sk-container-id-7 input.sk-toggleable__control:checked~label.sk-toggleable__label-arrow:before {content: \"▾\";}#sk-container-id-7 div.sk-estimator input.sk-toggleable__control:checked~label.sk-toggleable__label {background-color: #d4ebff;}#sk-container-id-7 div.sk-label input.sk-toggleable__control:checked~label.sk-toggleable__label {background-color: #d4ebff;}#sk-container-id-7 input.sk-hidden--visually {border: 0;clip: rect(1px 1px 1px 1px);clip: rect(1px, 1px, 1px, 1px);height: 1px;margin: -1px;overflow: hidden;padding: 0;position: absolute;width: 1px;}#sk-container-id-7 div.sk-estimator {font-family: monospace;background-color: #f0f8ff;border: 1px dotted black;border-radius: 0.25em;box-sizing: border-box;margin-bottom: 0.5em;}#sk-container-id-7 div.sk-estimator:hover {background-color: #d4ebff;}#sk-container-id-7 div.sk-parallel-item::after {content: \"\";width: 100%;border-bottom: 1px solid gray;flex-grow: 1;}#sk-container-id-7 div.sk-label:hover label.sk-toggleable__label {background-color: #d4ebff;}#sk-container-id-7 div.sk-serial::before {content: \"\";position: absolute;border-left: 1px solid gray;box-sizing: border-box;top: 0;bottom: 0;left: 50%;z-index: 0;}#sk-container-id-7 div.sk-serial {display: flex;flex-direction: column;align-items: center;background-color: white;padding-right: 0.2em;padding-left: 0.2em;position: relative;}#sk-container-id-7 div.sk-item {position: relative;z-index: 1;}#sk-container-id-7 div.sk-parallel {display: flex;align-items: stretch;justify-content: center;background-color: white;position: relative;}#sk-container-id-7 div.sk-item::before, #sk-container-id-7 div.sk-parallel-item::before {content: \"\";position: absolute;border-left: 1px solid gray;box-sizing: border-box;top: 0;bottom: 0;left: 50%;z-index: -1;}#sk-container-id-7 div.sk-parallel-item {display: flex;flex-direction: column;z-index: 1;position: relative;background-color: white;}#sk-container-id-7 div.sk-parallel-item:first-child::after {align-self: flex-end;width: 50%;}#sk-container-id-7 div.sk-parallel-item:last-child::after {align-self: flex-start;width: 50%;}#sk-container-id-7 div.sk-parallel-item:only-child::after {width: 0;}#sk-container-id-7 div.sk-dashed-wrapped {border: 1px dashed gray;margin: 0 0.4em 0.5em 0.4em;box-sizing: border-box;padding-bottom: 0.4em;background-color: white;}#sk-container-id-7 div.sk-label label {font-family: monospace;font-weight: bold;display: inline-block;line-height: 1.2em;}#sk-container-id-7 div.sk-label-container {text-align: center;}#sk-container-id-7 div.sk-container {/* jupyter's `normalize.less` sets `[hidden] { display: none; }` but bootstrap.min.css set `[hidden] { display: none !important; }` so we also need the `!important` here to be able to override the default hidden behavior on the sphinx rendered scikit-learn.org. See: https://github.com/scikit-learn/scikit-learn/issues/21755 */display: inline-block !important;position: relative;}#sk-container-id-7 div.sk-text-repr-fallback {display: none;}</style><div id=\"sk-container-id-7\" class=\"sk-top-container\"><div class=\"sk-text-repr-fallback\"><pre>ColumnTransformer(remainder=&#x27;passthrough&#x27;,\n",
       "                  transformers=[(&#x27;OneHotEncoding&#x27;, OneHotEncoder(drop=&#x27;first&#x27;),\n",
       "                                 [&#x27;Make&#x27;, &#x27;Model&#x27;]),\n",
       "                                (&#x27;MinMaxScaler&#x27;, MinMaxScaler(), [&#x27;Mileage&#x27;])])</pre><b>In a Jupyter environment, please rerun this cell to show the HTML representation or trust the notebook. <br />On GitHub, the HTML representation is unable to render, please try loading this page with nbviewer.org.</b></div><div class=\"sk-container\" hidden><div class=\"sk-item sk-dashed-wrapped\"><div class=\"sk-label-container\"><div class=\"sk-label sk-toggleable\"><input class=\"sk-toggleable__control sk-hidden--visually\" id=\"sk-estimator-id-43\" type=\"checkbox\" ><label for=\"sk-estimator-id-43\" class=\"sk-toggleable__label sk-toggleable__label-arrow\">ColumnTransformer</label><div class=\"sk-toggleable__content\"><pre>ColumnTransformer(remainder=&#x27;passthrough&#x27;,\n",
       "                  transformers=[(&#x27;OneHotEncoding&#x27;, OneHotEncoder(drop=&#x27;first&#x27;),\n",
       "                                 [&#x27;Make&#x27;, &#x27;Model&#x27;]),\n",
       "                                (&#x27;MinMaxScaler&#x27;, MinMaxScaler(), [&#x27;Mileage&#x27;])])</pre></div></div></div><div class=\"sk-parallel\"><div class=\"sk-parallel-item\"><div class=\"sk-item\"><div class=\"sk-label-container\"><div class=\"sk-label sk-toggleable\"><input class=\"sk-toggleable__control sk-hidden--visually\" id=\"sk-estimator-id-44\" type=\"checkbox\" ><label for=\"sk-estimator-id-44\" class=\"sk-toggleable__label sk-toggleable__label-arrow\">OneHotEncoding</label><div class=\"sk-toggleable__content\"><pre>[&#x27;Make&#x27;, &#x27;Model&#x27;]</pre></div></div></div><div class=\"sk-serial\"><div class=\"sk-item\"><div class=\"sk-estimator sk-toggleable\"><input class=\"sk-toggleable__control sk-hidden--visually\" id=\"sk-estimator-id-45\" type=\"checkbox\" ><label for=\"sk-estimator-id-45\" class=\"sk-toggleable__label sk-toggleable__label-arrow\">OneHotEncoder</label><div class=\"sk-toggleable__content\"><pre>OneHotEncoder(drop=&#x27;first&#x27;)</pre></div></div></div></div></div></div><div class=\"sk-parallel-item\"><div class=\"sk-item\"><div class=\"sk-label-container\"><div class=\"sk-label sk-toggleable\"><input class=\"sk-toggleable__control sk-hidden--visually\" id=\"sk-estimator-id-46\" type=\"checkbox\" ><label for=\"sk-estimator-id-46\" class=\"sk-toggleable__label sk-toggleable__label-arrow\">MinMaxScaler</label><div class=\"sk-toggleable__content\"><pre>[&#x27;Mileage&#x27;]</pre></div></div></div><div class=\"sk-serial\"><div class=\"sk-item\"><div class=\"sk-estimator sk-toggleable\"><input class=\"sk-toggleable__control sk-hidden--visually\" id=\"sk-estimator-id-47\" type=\"checkbox\" ><label for=\"sk-estimator-id-47\" class=\"sk-toggleable__label sk-toggleable__label-arrow\">MinMaxScaler</label><div class=\"sk-toggleable__content\"><pre>MinMaxScaler()</pre></div></div></div></div></div></div><div class=\"sk-parallel-item\"><div class=\"sk-item\"><div class=\"sk-label-container\"><div class=\"sk-label sk-toggleable\"><input class=\"sk-toggleable__control sk-hidden--visually\" id=\"sk-estimator-id-48\" type=\"checkbox\" ><label for=\"sk-estimator-id-48\" class=\"sk-toggleable__label sk-toggleable__label-arrow\">remainder</label><div class=\"sk-toggleable__content\"><pre></pre></div></div></div><div class=\"sk-serial\"><div class=\"sk-item\"><div class=\"sk-estimator sk-toggleable\"><input class=\"sk-toggleable__control sk-hidden--visually\" id=\"sk-estimator-id-49\" type=\"checkbox\" ><label for=\"sk-estimator-id-49\" class=\"sk-toggleable__label sk-toggleable__label-arrow\">passthrough</label><div class=\"sk-toggleable__content\"><pre>passthrough</pre></div></div></div></div></div></div></div></div></div></div>"
      ],
      "text/plain": [
       "ColumnTransformer(remainder='passthrough',\n",
       "                  transformers=[('OneHotEncoding', OneHotEncoder(drop='first'),\n",
       "                                 ['Make', 'Model']),\n",
       "                                ('MinMaxScaler', MinMaxScaler(), ['Mileage'])])"
      ]
     },
     "execution_count": 153,
     "metadata": {},
     "output_type": "execute_result"
    }
   ],
   "source": [
    "# lets use the Column Transformer\n",
    "transformed_data = ColumnTransformer(transformers=[('OneHotEncoding', OneHotEncoder(drop='first'), ['Make','Model']),\n",
    "                               ('MinMaxScaler', MinMaxScaler(), ['Mileage'])], remainder='passthrough')\n",
    "transformed_data"
   ]
  },
  {
   "cell_type": "code",
   "execution_count": 165,
   "id": "805a903e-7d59-4376-b63d-208d0a579789",
   "metadata": {},
   "outputs": [],
   "source": [
    "# lets transform the data of all the columns \n",
    "X = transformed_data.fit_transform(cars[['Make', 'Model', 'Mileage', 'Year']])"
   ]
  },
  {
   "cell_type": "code",
   "execution_count": 166,
   "id": "d1114a3f-56e3-44b0-b382-179e449915dc",
   "metadata": {},
   "outputs": [],
   "source": [
    "# lets split the data into train and test\n",
    "X_train, X_test, y_train, y_test = train_test_split(X, cars['Price'], test_size=0.3, random_state= 3, shuffle=True)"
   ]
  },
  {
   "cell_type": "markdown",
   "id": "9e010607-0512-40be-9184-5b96e39939b6",
   "metadata": {},
   "source": [
    "## Model Building"
   ]
  },
  {
   "cell_type": "code",
   "execution_count": 156,
   "id": "45bab958-5b1c-488a-acbf-d24dd163426e",
   "metadata": {},
   "outputs": [],
   "source": [
    "# lets import some regressors which we would like to use\n",
    "from sklearn.linear_model import LinearRegression\n",
    "from sklearn.metrics import r2_score"
   ]
  },
  {
   "cell_type": "markdown",
   "id": "c0acb1f6-779a-485c-b919-1512a726d4de",
   "metadata": {},
   "source": [
    "## Model Training and Evaluating"
   ]
  },
  {
   "cell_type": "code",
   "execution_count": 157,
   "id": "a98272db-a30b-4939-88b8-54f8f066e1a2",
   "metadata": {},
   "outputs": [],
   "source": [
    "# lets define the model\n",
    "linreg = LinearRegression()"
   ]
  },
  {
   "cell_type": "code",
   "execution_count": 167,
   "id": "aa02d9c6-b686-4fa7-8c5f-266935c0cdd7",
   "metadata": {},
   "outputs": [
    {
     "data": {
      "text/plain": [
       "0.862090183165815"
      ]
     },
     "execution_count": 167,
     "metadata": {},
     "output_type": "execute_result"
    }
   ],
   "source": [
    "# lets train linear regression model and evaluate\n",
    "linreg.fit(X_train, y_train)\n",
    "y_pred1 = linreg.predict(X_test)\n",
    "r2_score(y_test, y_pred1)"
   ]
  },
  {
   "cell_type": "markdown",
   "id": "0f3de079-4436-4247-9d5c-a3fcea70b428",
   "metadata": {},
   "source": [
    "## Try out some predictions"
   ]
  },
  {
   "cell_type": "code",
   "execution_count": 176,
   "id": "449a4c90-2a40-423b-9428-c208e0c9c11e",
   "metadata": {},
   "outputs": [],
   "source": [
    "# lets define a function which predicts the Life expectancy when a raw data is supplied to it\n",
    "def predictor(raw_data):\n",
    "    # raw_data is a dict of list      \n",
    "    X = transformed_data.transform(pd.DataFrame(raw_data))\n",
    "    y = np.round(linreg.predict(X), 2)\n",
    "    for i in y:\n",
    "        print(f'The cost of the car with brand \"{raw_data[\"Make\"][np.where(y == i)[0][0]]}\" and model \"{raw_data[\"Model\"][np.where(y == i)[0][0]]}\" is {i}')\n"
   ]
  },
  {
   "cell_type": "code",
   "execution_count": 178,
   "id": "3e93389a-511b-49a6-8ca5-2b748f2fb4ad",
   "metadata": {},
   "outputs": [
    {
     "name": "stdout",
     "output_type": "stream",
     "text": [
      "The cost of the car with brand \"Ford\" and model \"FocusHatchback\" is 8836.72\n",
      "The cost of the car with brand \"Chevrolet\" and model \"EquinoxAWD\" is 17000.13\n",
      "The cost of the car with brand \"Audi\" and model \"A42.0T\" is 23471.82\n",
      "The cost of the car with brand \"Hyundai\" and model \"Sonata4dr\" is 10213.69\n",
      "The cost of the car with brand \"Dodge\" and model \"JourneySXT\" is 15621.72\n"
     ]
    }
   ],
   "source": [
    "raw_data = {'Make': ['Ford', 'Chevrolet', 'Audi', 'Hyundai', 'Dodge'],\n",
    "            'Model': ['FocusHatchback', 'EquinoxAWD', 'A42.0T', 'Sonata4dr', 'JourneySXT'],\n",
    "            'Mileage': [64808, 65430, 41935, 68739, 48202],\n",
    "            'Year': [2013, 2014, 2015, 2011, 2015]\n",
    "           }\n",
    "predictor(raw_data)"
   ]
  },
  {
   "cell_type": "code",
   "execution_count": null,
   "id": "14f31290-9bf3-4c35-8a13-d0f2f89c3715",
   "metadata": {},
   "outputs": [],
   "source": []
  }
 ],
 "metadata": {
  "kernelspec": {
   "display_name": "Python 3 (ipykernel)",
   "language": "python",
   "name": "python3"
  },
  "language_info": {
   "codemirror_mode": {
    "name": "ipython",
    "version": 3
   },
   "file_extension": ".py",
   "mimetype": "text/x-python",
   "name": "python",
   "nbconvert_exporter": "python",
   "pygments_lexer": "ipython3",
   "version": "3.11.7"
  }
 },
 "nbformat": 4,
 "nbformat_minor": 5
}
